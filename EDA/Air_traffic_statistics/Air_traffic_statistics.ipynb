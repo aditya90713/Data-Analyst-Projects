{
 "cells": [
  {
   "cell_type": "code",
   "execution_count": 37,
   "metadata": {},
   "outputs": [],
   "source": [
    "import numpy as np\n",
    "import matplotlib.pyplot as plt\n",
    "import pandas as pd\n",
    "import matplotlib as mpl\n",
    "import seaborn as sns\n",
    "%matplotlib inline\n",
    "mpl.style.use('ggplot')\n",
    "import warnings\n",
    "warnings.filterwarnings('ignore')"
   ]
  },
  {
   "cell_type": "markdown",
   "metadata": {},
   "source": [
    "# Introduction"
   ]
  },
  {
   "cell_type": "markdown",
   "metadata": {},
   "source": [
    "This Data Science project is over a couple of datasets. The first dataset consists of the data of all the aircrafts landing at San Francisco form 2002 to 2018. The other dataset consists of the data of all the airplanes and its passenger counts at SF either deplaned, enplaned or through the airport.   "
   ]
  },
  {
   "cell_type": "code",
   "execution_count": 38,
   "metadata": {},
   "outputs": [],
   "source": [
    "landings=pd.read_csv('air-traffic-landings-statistics.csv')\n",
    "passengers=pd.read_csv('air-traffic-passenger-statistics.csv')"
   ]
  },
  {
   "cell_type": "code",
   "execution_count": 39,
   "metadata": {},
   "outputs": [
    {
     "data": {
      "text/html": [
       "<div>\n",
       "<style scoped>\n",
       "    .dataframe tbody tr th:only-of-type {\n",
       "        vertical-align: middle;\n",
       "    }\n",
       "\n",
       "    .dataframe tbody tr th {\n",
       "        vertical-align: top;\n",
       "    }\n",
       "\n",
       "    .dataframe thead th {\n",
       "        text-align: right;\n",
       "    }\n",
       "</style>\n",
       "<table border=\"1\" class=\"dataframe\">\n",
       "  <thead>\n",
       "    <tr style=\"text-align: right;\">\n",
       "      <th></th>\n",
       "      <th>Activity Period</th>\n",
       "      <th>Operating Airline</th>\n",
       "      <th>Operating Airline IATA Code</th>\n",
       "      <th>Published Airline</th>\n",
       "      <th>Published Airline IATA Code</th>\n",
       "      <th>GEO Summary</th>\n",
       "      <th>GEO Region</th>\n",
       "      <th>Landing Aircraft Type</th>\n",
       "      <th>Aircraft Body Type</th>\n",
       "      <th>Aircraft Manufacturer</th>\n",
       "      <th>Aircraft Model</th>\n",
       "      <th>Aircraft Version</th>\n",
       "      <th>Landing Count</th>\n",
       "      <th>Total Landed Weight</th>\n",
       "    </tr>\n",
       "  </thead>\n",
       "  <tbody>\n",
       "    <tr>\n",
       "      <th>0</th>\n",
       "      <td>200204</td>\n",
       "      <td>ATA Airlines</td>\n",
       "      <td>TZ</td>\n",
       "      <td>ATA Airlines</td>\n",
       "      <td>TZ</td>\n",
       "      <td>Domestic</td>\n",
       "      <td>US</td>\n",
       "      <td>Passenger</td>\n",
       "      <td>Narrow Body</td>\n",
       "      <td>Boeing</td>\n",
       "      <td>757</td>\n",
       "      <td>200</td>\n",
       "      <td>83</td>\n",
       "      <td>16434000</td>\n",
       "    </tr>\n",
       "    <tr>\n",
       "      <th>1</th>\n",
       "      <td>200204</td>\n",
       "      <td>ATA Airlines</td>\n",
       "      <td>TZ</td>\n",
       "      <td>ATA Airlines</td>\n",
       "      <td>TZ</td>\n",
       "      <td>Domestic</td>\n",
       "      <td>US</td>\n",
       "      <td>Passenger</td>\n",
       "      <td>Narrow Body</td>\n",
       "      <td>Boeing</td>\n",
       "      <td>757</td>\n",
       "      <td>300</td>\n",
       "      <td>3</td>\n",
       "      <td>672000</td>\n",
       "    </tr>\n",
       "    <tr>\n",
       "      <th>2</th>\n",
       "      <td>200204</td>\n",
       "      <td>ATA Airlines</td>\n",
       "      <td>TZ</td>\n",
       "      <td>ATA Airlines</td>\n",
       "      <td>TZ</td>\n",
       "      <td>Domestic</td>\n",
       "      <td>US</td>\n",
       "      <td>Passenger</td>\n",
       "      <td>Wide Body</td>\n",
       "      <td>Lockheed</td>\n",
       "      <td>L1011</td>\n",
       "      <td>0</td>\n",
       "      <td>27</td>\n",
       "      <td>9666000</td>\n",
       "    </tr>\n",
       "    <tr>\n",
       "      <th>3</th>\n",
       "      <td>200204</td>\n",
       "      <td>Aeroflot Russian International Airlines</td>\n",
       "      <td>NaN</td>\n",
       "      <td>Aeroflot Russian International Airlines</td>\n",
       "      <td>NaN</td>\n",
       "      <td>International</td>\n",
       "      <td>Europe</td>\n",
       "      <td>Passenger</td>\n",
       "      <td>Wide Body</td>\n",
       "      <td>Boeing</td>\n",
       "      <td>777</td>\n",
       "      <td>0</td>\n",
       "      <td>9</td>\n",
       "      <td>4139946</td>\n",
       "    </tr>\n",
       "    <tr>\n",
       "      <th>4</th>\n",
       "      <td>200204</td>\n",
       "      <td>Air Canada</td>\n",
       "      <td>AC</td>\n",
       "      <td>Air Canada</td>\n",
       "      <td>AC</td>\n",
       "      <td>International</td>\n",
       "      <td>Canada</td>\n",
       "      <td>Passenger</td>\n",
       "      <td>Narrow Body</td>\n",
       "      <td>Boeing</td>\n",
       "      <td>737</td>\n",
       "      <td>200</td>\n",
       "      <td>5</td>\n",
       "      <td>525000</td>\n",
       "    </tr>\n",
       "  </tbody>\n",
       "</table>\n",
       "</div>"
      ],
      "text/plain": [
       "   Activity Period                        Operating Airline  \\\n",
       "0           200204                             ATA Airlines   \n",
       "1           200204                             ATA Airlines   \n",
       "2           200204                             ATA Airlines   \n",
       "3           200204  Aeroflot Russian International Airlines   \n",
       "4           200204                               Air Canada   \n",
       "\n",
       "  Operating Airline IATA Code                        Published Airline  \\\n",
       "0                          TZ                             ATA Airlines   \n",
       "1                          TZ                             ATA Airlines   \n",
       "2                          TZ                             ATA Airlines   \n",
       "3                         NaN  Aeroflot Russian International Airlines   \n",
       "4                          AC                               Air Canada   \n",
       "\n",
       "  Published Airline IATA Code    GEO Summary GEO Region Landing Aircraft Type  \\\n",
       "0                          TZ       Domestic         US             Passenger   \n",
       "1                          TZ       Domestic         US             Passenger   \n",
       "2                          TZ       Domestic         US             Passenger   \n",
       "3                         NaN  International     Europe             Passenger   \n",
       "4                          AC  International     Canada             Passenger   \n",
       "\n",
       "  Aircraft Body Type Aircraft Manufacturer Aircraft Model Aircraft Version  \\\n",
       "0        Narrow Body                Boeing            757              200   \n",
       "1        Narrow Body                Boeing            757              300   \n",
       "2          Wide Body              Lockheed          L1011                0   \n",
       "3          Wide Body                Boeing            777                0   \n",
       "4        Narrow Body                Boeing            737              200   \n",
       "\n",
       "   Landing Count  Total Landed Weight  \n",
       "0             83             16434000  \n",
       "1              3               672000  \n",
       "2             27              9666000  \n",
       "3              9              4139946  \n",
       "4              5               525000  "
      ]
     },
     "execution_count": 39,
     "metadata": {},
     "output_type": "execute_result"
    }
   ],
   "source": [
    "landings.head()"
   ]
  },
  {
   "cell_type": "code",
   "execution_count": 40,
   "metadata": {},
   "outputs": [
    {
     "data": {
      "text/html": [
       "<div>\n",
       "<style scoped>\n",
       "    .dataframe tbody tr th:only-of-type {\n",
       "        vertical-align: middle;\n",
       "    }\n",
       "\n",
       "    .dataframe tbody tr th {\n",
       "        vertical-align: top;\n",
       "    }\n",
       "\n",
       "    .dataframe thead th {\n",
       "        text-align: right;\n",
       "    }\n",
       "</style>\n",
       "<table border=\"1\" class=\"dataframe\">\n",
       "  <thead>\n",
       "    <tr style=\"text-align: right;\">\n",
       "      <th></th>\n",
       "      <th>Activity Period</th>\n",
       "      <th>Operating Airline</th>\n",
       "      <th>Operating Airline IATA Code</th>\n",
       "      <th>Published Airline</th>\n",
       "      <th>Published Airline IATA Code</th>\n",
       "      <th>GEO Summary</th>\n",
       "      <th>GEO Region</th>\n",
       "      <th>Activity Type Code</th>\n",
       "      <th>Price Category Code</th>\n",
       "      <th>Terminal</th>\n",
       "      <th>Boarding Area</th>\n",
       "      <th>Passenger Count</th>\n",
       "    </tr>\n",
       "  </thead>\n",
       "  <tbody>\n",
       "    <tr>\n",
       "      <th>0</th>\n",
       "      <td>200507</td>\n",
       "      <td>ATA Airlines</td>\n",
       "      <td>TZ</td>\n",
       "      <td>ATA Airlines</td>\n",
       "      <td>TZ</td>\n",
       "      <td>Domestic</td>\n",
       "      <td>US</td>\n",
       "      <td>Deplaned</td>\n",
       "      <td>Low Fare</td>\n",
       "      <td>Terminal 1</td>\n",
       "      <td>B</td>\n",
       "      <td>27271</td>\n",
       "    </tr>\n",
       "    <tr>\n",
       "      <th>1</th>\n",
       "      <td>200507</td>\n",
       "      <td>ATA Airlines</td>\n",
       "      <td>TZ</td>\n",
       "      <td>ATA Airlines</td>\n",
       "      <td>TZ</td>\n",
       "      <td>Domestic</td>\n",
       "      <td>US</td>\n",
       "      <td>Enplaned</td>\n",
       "      <td>Low Fare</td>\n",
       "      <td>Terminal 1</td>\n",
       "      <td>B</td>\n",
       "      <td>29131</td>\n",
       "    </tr>\n",
       "    <tr>\n",
       "      <th>2</th>\n",
       "      <td>200507</td>\n",
       "      <td>ATA Airlines</td>\n",
       "      <td>TZ</td>\n",
       "      <td>ATA Airlines</td>\n",
       "      <td>TZ</td>\n",
       "      <td>Domestic</td>\n",
       "      <td>US</td>\n",
       "      <td>Thru / Transit</td>\n",
       "      <td>Low Fare</td>\n",
       "      <td>Terminal 1</td>\n",
       "      <td>B</td>\n",
       "      <td>5415</td>\n",
       "    </tr>\n",
       "    <tr>\n",
       "      <th>3</th>\n",
       "      <td>200507</td>\n",
       "      <td>Air Canada</td>\n",
       "      <td>AC</td>\n",
       "      <td>Air Canada</td>\n",
       "      <td>AC</td>\n",
       "      <td>International</td>\n",
       "      <td>Canada</td>\n",
       "      <td>Deplaned</td>\n",
       "      <td>Other</td>\n",
       "      <td>Terminal 1</td>\n",
       "      <td>B</td>\n",
       "      <td>35156</td>\n",
       "    </tr>\n",
       "    <tr>\n",
       "      <th>4</th>\n",
       "      <td>200507</td>\n",
       "      <td>Air Canada</td>\n",
       "      <td>AC</td>\n",
       "      <td>Air Canada</td>\n",
       "      <td>AC</td>\n",
       "      <td>International</td>\n",
       "      <td>Canada</td>\n",
       "      <td>Enplaned</td>\n",
       "      <td>Other</td>\n",
       "      <td>Terminal 1</td>\n",
       "      <td>B</td>\n",
       "      <td>34090</td>\n",
       "    </tr>\n",
       "  </tbody>\n",
       "</table>\n",
       "</div>"
      ],
      "text/plain": [
       "   Activity Period Operating Airline Operating Airline IATA Code  \\\n",
       "0           200507      ATA Airlines                          TZ   \n",
       "1           200507      ATA Airlines                          TZ   \n",
       "2           200507      ATA Airlines                          TZ   \n",
       "3           200507        Air Canada                          AC   \n",
       "4           200507        Air Canada                          AC   \n",
       "\n",
       "  Published Airline Published Airline IATA Code    GEO Summary GEO Region  \\\n",
       "0      ATA Airlines                          TZ       Domestic         US   \n",
       "1      ATA Airlines                          TZ       Domestic         US   \n",
       "2      ATA Airlines                          TZ       Domestic         US   \n",
       "3        Air Canada                          AC  International     Canada   \n",
       "4        Air Canada                          AC  International     Canada   \n",
       "\n",
       "  Activity Type Code Price Category Code    Terminal Boarding Area  \\\n",
       "0           Deplaned            Low Fare  Terminal 1             B   \n",
       "1           Enplaned            Low Fare  Terminal 1             B   \n",
       "2     Thru / Transit            Low Fare  Terminal 1             B   \n",
       "3           Deplaned               Other  Terminal 1             B   \n",
       "4           Enplaned               Other  Terminal 1             B   \n",
       "\n",
       "   Passenger Count  \n",
       "0            27271  \n",
       "1            29131  \n",
       "2             5415  \n",
       "3            35156  \n",
       "4            34090  "
      ]
     },
     "execution_count": 40,
     "metadata": {},
     "output_type": "execute_result"
    }
   ],
   "source": [
    "passengers.head()"
   ]
  },
  {
   "cell_type": "markdown",
   "metadata": {},
   "source": [
    "### Understading the data"
   ]
  },
  {
   "cell_type": "code",
   "execution_count": 41,
   "metadata": {},
   "outputs": [
    {
     "data": {
      "text/plain": [
       "Activity Period                 int64\n",
       "Operating Airline              object\n",
       "Operating Airline IATA Code    object\n",
       "Published Airline              object\n",
       "Published Airline IATA Code    object\n",
       "GEO Summary                    object\n",
       "GEO Region                     object\n",
       "Landing Aircraft Type          object\n",
       "Aircraft Body Type             object\n",
       "Aircraft Manufacturer          object\n",
       "Aircraft Model                 object\n",
       "Aircraft Version               object\n",
       "Landing Count                   int64\n",
       "Total Landed Weight             int64\n",
       "dtype: object"
      ]
     },
     "execution_count": 41,
     "metadata": {},
     "output_type": "execute_result"
    }
   ],
   "source": [
    "landings.dtypes"
   ]
  },
  {
   "cell_type": "code",
   "execution_count": 42,
   "metadata": {},
   "outputs": [
    {
     "data": {
      "text/plain": [
       "Activity Period                 int64\n",
       "Operating Airline              object\n",
       "Operating Airline IATA Code    object\n",
       "Published Airline              object\n",
       "Published Airline IATA Code    object\n",
       "GEO Summary                    object\n",
       "GEO Region                     object\n",
       "Activity Type Code             object\n",
       "Price Category Code            object\n",
       "Terminal                       object\n",
       "Boarding Area                  object\n",
       "Passenger Count                 int64\n",
       "dtype: object"
      ]
     },
     "execution_count": 42,
     "metadata": {},
     "output_type": "execute_result"
    }
   ],
   "source": [
    "passengers.dtypes"
   ]
  },
  {
   "cell_type": "code",
   "execution_count": 43,
   "metadata": {},
   "outputs": [
    {
     "name": "stdout",
     "output_type": "stream",
     "text": [
      "<class 'pandas.core.frame.DataFrame'>\n",
      "RangeIndex: 21846 entries, 0 to 21845\n",
      "Data columns (total 14 columns):\n",
      " #   Column                       Non-Null Count  Dtype \n",
      "---  ------                       --------------  ----- \n",
      " 0   Activity Period              21846 non-null  int64 \n",
      " 1   Operating Airline            21846 non-null  object\n",
      " 2   Operating Airline IATA Code  21762 non-null  object\n",
      " 3   Published Airline            21846 non-null  object\n",
      " 4   Published Airline IATA Code  21762 non-null  object\n",
      " 5   GEO Summary                  21846 non-null  object\n",
      " 6   GEO Region                   21846 non-null  object\n",
      " 7   Landing Aircraft Type        21846 non-null  object\n",
      " 8   Aircraft Body Type           21846 non-null  object\n",
      " 9   Aircraft Manufacturer        21836 non-null  object\n",
      " 10  Aircraft Model               21846 non-null  object\n",
      " 11  Aircraft Version             20631 non-null  object\n",
      " 12  Landing Count                21846 non-null  int64 \n",
      " 13  Total Landed Weight          21846 non-null  int64 \n",
      "dtypes: int64(3), object(11)\n",
      "memory usage: 2.3+ MB\n"
     ]
    }
   ],
   "source": [
    "landings.info()"
   ]
  },
  {
   "cell_type": "code",
   "execution_count": 44,
   "metadata": {},
   "outputs": [
    {
     "data": {
      "text/plain": [
       "Activity Period                   0\n",
       "Operating Airline                 0\n",
       "Operating Airline IATA Code      84\n",
       "Published Airline                 0\n",
       "Published Airline IATA Code      84\n",
       "GEO Summary                       0\n",
       "GEO Region                        0\n",
       "Landing Aircraft Type             0\n",
       "Aircraft Body Type                0\n",
       "Aircraft Manufacturer            10\n",
       "Aircraft Model                    0\n",
       "Aircraft Version               1215\n",
       "Landing Count                     0\n",
       "Total Landed Weight               0\n",
       "dtype: int64"
      ]
     },
     "execution_count": 44,
     "metadata": {},
     "output_type": "execute_result"
    }
   ],
   "source": [
    "# null values per column\n",
    "landings.isnull().sum()"
   ]
  },
  {
   "cell_type": "code",
   "execution_count": 45,
   "metadata": {},
   "outputs": [],
   "source": [
    "landings['Aircraft Version'].replace(np.nan,0,inplace=True)"
   ]
  },
  {
   "cell_type": "code",
   "execution_count": 46,
   "metadata": {},
   "outputs": [
    {
     "data": {
      "text/plain": [
       "Activity Period                 0\n",
       "Operating Airline               0\n",
       "Operating Airline IATA Code    84\n",
       "Published Airline               0\n",
       "Published Airline IATA Code    84\n",
       "GEO Summary                     0\n",
       "GEO Region                      0\n",
       "Landing Aircraft Type           0\n",
       "Aircraft Body Type              0\n",
       "Aircraft Manufacturer          10\n",
       "Aircraft Model                  0\n",
       "Aircraft Version                0\n",
       "Landing Count                   0\n",
       "Total Landed Weight             0\n",
       "dtype: int64"
      ]
     },
     "execution_count": 46,
     "metadata": {},
     "output_type": "execute_result"
    }
   ],
   "source": [
    "landings.isnull().sum()"
   ]
  },
  {
   "cell_type": "code",
   "execution_count": 47,
   "metadata": {},
   "outputs": [],
   "source": [
    "landings['Aircraft Manufacturer'].replace(np.nan,landings['Aircraft Manufacturer'].value_counts().idxmax(),inplace=True)"
   ]
  },
  {
   "cell_type": "code",
   "execution_count": 48,
   "metadata": {},
   "outputs": [
    {
     "data": {
      "text/html": [
       "<div>\n",
       "<style scoped>\n",
       "    .dataframe tbody tr th:only-of-type {\n",
       "        vertical-align: middle;\n",
       "    }\n",
       "\n",
       "    .dataframe tbody tr th {\n",
       "        vertical-align: top;\n",
       "    }\n",
       "\n",
       "    .dataframe thead th {\n",
       "        text-align: right;\n",
       "    }\n",
       "</style>\n",
       "<table border=\"1\" class=\"dataframe\">\n",
       "  <thead>\n",
       "    <tr style=\"text-align: right;\">\n",
       "      <th></th>\n",
       "      <th>Activity Period</th>\n",
       "      <th>Operating Airline</th>\n",
       "      <th>Operating Airline IATA Code</th>\n",
       "      <th>Published Airline</th>\n",
       "      <th>Published Airline IATA Code</th>\n",
       "      <th>GEO Summary</th>\n",
       "      <th>GEO Region</th>\n",
       "      <th>Landing Aircraft Type</th>\n",
       "      <th>Aircraft Body Type</th>\n",
       "      <th>Aircraft Manufacturer</th>\n",
       "      <th>Aircraft Model</th>\n",
       "      <th>Aircraft Version</th>\n",
       "      <th>Landing Count</th>\n",
       "      <th>Total Landed Weight</th>\n",
       "    </tr>\n",
       "  </thead>\n",
       "  <tbody>\n",
       "    <tr>\n",
       "      <th>0</th>\n",
       "      <td>200204</td>\n",
       "      <td>ATA Airlines</td>\n",
       "      <td>TZ</td>\n",
       "      <td>ATA Airlines</td>\n",
       "      <td>TZ</td>\n",
       "      <td>Domestic</td>\n",
       "      <td>US</td>\n",
       "      <td>Passenger</td>\n",
       "      <td>Narrow Body</td>\n",
       "      <td>Boeing</td>\n",
       "      <td>757</td>\n",
       "      <td>200</td>\n",
       "      <td>83</td>\n",
       "      <td>16434000</td>\n",
       "    </tr>\n",
       "    <tr>\n",
       "      <th>1</th>\n",
       "      <td>200204</td>\n",
       "      <td>ATA Airlines</td>\n",
       "      <td>TZ</td>\n",
       "      <td>ATA Airlines</td>\n",
       "      <td>TZ</td>\n",
       "      <td>Domestic</td>\n",
       "      <td>US</td>\n",
       "      <td>Passenger</td>\n",
       "      <td>Narrow Body</td>\n",
       "      <td>Boeing</td>\n",
       "      <td>757</td>\n",
       "      <td>300</td>\n",
       "      <td>3</td>\n",
       "      <td>672000</td>\n",
       "    </tr>\n",
       "    <tr>\n",
       "      <th>2</th>\n",
       "      <td>200204</td>\n",
       "      <td>ATA Airlines</td>\n",
       "      <td>TZ</td>\n",
       "      <td>ATA Airlines</td>\n",
       "      <td>TZ</td>\n",
       "      <td>Domestic</td>\n",
       "      <td>US</td>\n",
       "      <td>Passenger</td>\n",
       "      <td>Wide Body</td>\n",
       "      <td>Lockheed</td>\n",
       "      <td>L1011</td>\n",
       "      <td>0</td>\n",
       "      <td>27</td>\n",
       "      <td>9666000</td>\n",
       "    </tr>\n",
       "    <tr>\n",
       "      <th>3</th>\n",
       "      <td>200204</td>\n",
       "      <td>Aeroflot Russian International Airlines</td>\n",
       "      <td>NaN</td>\n",
       "      <td>Aeroflot Russian International Airlines</td>\n",
       "      <td>NaN</td>\n",
       "      <td>International</td>\n",
       "      <td>Europe</td>\n",
       "      <td>Passenger</td>\n",
       "      <td>Wide Body</td>\n",
       "      <td>Boeing</td>\n",
       "      <td>777</td>\n",
       "      <td>0</td>\n",
       "      <td>9</td>\n",
       "      <td>4139946</td>\n",
       "    </tr>\n",
       "    <tr>\n",
       "      <th>4</th>\n",
       "      <td>200204</td>\n",
       "      <td>Air Canada</td>\n",
       "      <td>AC</td>\n",
       "      <td>Air Canada</td>\n",
       "      <td>AC</td>\n",
       "      <td>International</td>\n",
       "      <td>Canada</td>\n",
       "      <td>Passenger</td>\n",
       "      <td>Narrow Body</td>\n",
       "      <td>Boeing</td>\n",
       "      <td>737</td>\n",
       "      <td>200</td>\n",
       "      <td>5</td>\n",
       "      <td>525000</td>\n",
       "    </tr>\n",
       "  </tbody>\n",
       "</table>\n",
       "</div>"
      ],
      "text/plain": [
       "   Activity Period                        Operating Airline  \\\n",
       "0           200204                             ATA Airlines   \n",
       "1           200204                             ATA Airlines   \n",
       "2           200204                             ATA Airlines   \n",
       "3           200204  Aeroflot Russian International Airlines   \n",
       "4           200204                               Air Canada   \n",
       "\n",
       "  Operating Airline IATA Code                        Published Airline  \\\n",
       "0                          TZ                             ATA Airlines   \n",
       "1                          TZ                             ATA Airlines   \n",
       "2                          TZ                             ATA Airlines   \n",
       "3                         NaN  Aeroflot Russian International Airlines   \n",
       "4                          AC                               Air Canada   \n",
       "\n",
       "  Published Airline IATA Code    GEO Summary GEO Region Landing Aircraft Type  \\\n",
       "0                          TZ       Domestic         US             Passenger   \n",
       "1                          TZ       Domestic         US             Passenger   \n",
       "2                          TZ       Domestic         US             Passenger   \n",
       "3                         NaN  International     Europe             Passenger   \n",
       "4                          AC  International     Canada             Passenger   \n",
       "\n",
       "  Aircraft Body Type Aircraft Manufacturer Aircraft Model Aircraft Version  \\\n",
       "0        Narrow Body                Boeing            757              200   \n",
       "1        Narrow Body                Boeing            757              300   \n",
       "2          Wide Body              Lockheed          L1011                0   \n",
       "3          Wide Body                Boeing            777                0   \n",
       "4        Narrow Body                Boeing            737              200   \n",
       "\n",
       "   Landing Count  Total Landed Weight  \n",
       "0             83             16434000  \n",
       "1              3               672000  \n",
       "2             27              9666000  \n",
       "3              9              4139946  \n",
       "4              5               525000  "
      ]
     },
     "execution_count": 48,
     "metadata": {},
     "output_type": "execute_result"
    }
   ],
   "source": [
    "landings.head()"
   ]
  },
  {
   "cell_type": "code",
   "execution_count": 49,
   "metadata": {},
   "outputs": [
    {
     "data": {
      "text/plain": [
       "Aircraft Manufacturer\n",
       "Boeing               13170\n",
       "Airbus                5534\n",
       "Bombardier            1158\n",
       "McDonnell Douglas      906\n",
       "Embraer                665\n",
       "Beechcraft             164\n",
       "Shorts                  70\n",
       "Fairchild               59\n",
       "DeHavilland             41\n",
       "Cessna                  26\n",
       "LearJet                 18\n",
       "Swearingen              13\n",
       "Piper                    9\n",
       "Lockheed                 7\n",
       "BAE-Avro                 6\n",
       "Name: count, dtype: int64"
      ]
     },
     "execution_count": 49,
     "metadata": {},
     "output_type": "execute_result"
    }
   ],
   "source": [
    "landings['Aircraft Manufacturer'].value_counts()"
   ]
  },
  {
   "cell_type": "code",
   "execution_count": 50,
   "metadata": {},
   "outputs": [
    {
     "data": {
      "text/plain": [
       "array(['Boeing', 'Boeing', 'Lockheed', ..., 'Boeing', 'Boeing', 'Airbus'],\n",
       "      dtype=object)"
      ]
     },
     "execution_count": 50,
     "metadata": {},
     "output_type": "execute_result"
    }
   ],
   "source": [
    "# unique values\n",
    "landings['Aircraft Manufacturer'].values"
   ]
  },
  {
   "cell_type": "code",
   "execution_count": 51,
   "metadata": {},
   "outputs": [
    {
     "data": {
      "text/plain": [
       "['Activity Period', 'Landing Count', 'Total Landed Weight']"
      ]
     },
     "execution_count": 51,
     "metadata": {},
     "output_type": "execute_result"
    }
   ],
   "source": [
    "numerical_values = list(landings.select_dtypes(include='int').columns)\n",
    "numerical_values"
   ]
  },
  {
   "cell_type": "code",
   "execution_count": 52,
   "metadata": {},
   "outputs": [],
   "source": [
    "df = landings[['Activity Period', 'Landing Count', 'Total Landed Weight']]"
   ]
  },
  {
   "cell_type": "code",
   "execution_count": 53,
   "metadata": {},
   "outputs": [
    {
     "data": {
      "text/plain": [
       "(21846, 14)"
      ]
     },
     "execution_count": 53,
     "metadata": {},
     "output_type": "execute_result"
    }
   ],
   "source": [
    "landings.shape"
   ]
  },
  {
   "cell_type": "code",
   "execution_count": 54,
   "metadata": {},
   "outputs": [],
   "source": [
    "# mpl.pyplot.figure(figsize=(15,15))\n",
    "# sns.heatmap(df, annot=True)"
   ]
  },
  {
   "cell_type": "markdown",
   "metadata": {},
   "source": [
    "# Analysis(Landings)"
   ]
  },
  {
   "cell_type": "markdown",
   "metadata": {},
   "source": [
    "##### 1.  Which airline lands its heaviest planes over a period (2007-2017)\n",
    "##### 2. Bar graph of the landing count distribution in each year of the airline with most number of international flights\n",
    "##### 3. Area graph over the context of landing count distribution in years of the top 5 airlines which perform most domestic flights(2007-17)\n",
    "##### 4. Which is the top aircraft manufacturer which top 5 frighter airlines choose to perform their flights to SF \n",
    "##### 5. Which aircraft manufacturer makes a freighter aircraft which can carry more weight than others"
   ]
  },
  {
   "cell_type": "code",
   "execution_count": 55,
   "metadata": {},
   "outputs": [
    {
     "data": {
      "text/plain": [
       "Operating Airline\n",
       "Virgin America    5.735168e+07\n",
       "Name: Total Landed Weight, dtype: float64"
      ]
     },
     "execution_count": 55,
     "metadata": {},
     "output_type": "execute_result"
    }
   ],
   "source": [
    "#1 \n",
    "# Airline with most weight\n",
    "dec_7_17=landings[landings['Activity Period']>200700 ]\n",
    "dec_7_17=dec_7_17[dec_7_17['Activity Period']<201800]\n",
    "dec_7_17.groupby(\"Operating Airline\")['Total Landed Weight'].agg('mean').sort_values(ascending=False).head(1)"
   ]
  },
  {
   "cell_type": "markdown",
   "metadata": {},
   "source": [
    "Virgin America is the airline which has the highest average landing weight in the decade 2007-2017"
   ]
  },
  {
   "cell_type": "code",
   "execution_count": 56,
   "metadata": {},
   "outputs": [],
   "source": [
    "virgin=dec_7_17[dec_7_17['Operating Airline']=='Virgin America']\n",
    "virgin['Activity Period']=virgin['Activity Period'].astype('str')"
   ]
  },
  {
   "cell_type": "code",
   "execution_count": 57,
   "metadata": {},
   "outputs": [
    {
     "data": {
      "text/html": [
       "<div>\n",
       "<style scoped>\n",
       "    .dataframe tbody tr th:only-of-type {\n",
       "        vertical-align: middle;\n",
       "    }\n",
       "\n",
       "    .dataframe tbody tr th {\n",
       "        vertical-align: top;\n",
       "    }\n",
       "\n",
       "    .dataframe thead th {\n",
       "        text-align: right;\n",
       "    }\n",
       "</style>\n",
       "<table border=\"1\" class=\"dataframe\">\n",
       "  <thead>\n",
       "    <tr style=\"text-align: right;\">\n",
       "      <th></th>\n",
       "      <th>Activity Period</th>\n",
       "    </tr>\n",
       "  </thead>\n",
       "  <tbody>\n",
       "    <tr>\n",
       "      <th>3653</th>\n",
       "      <td>200708</td>\n",
       "    </tr>\n",
       "    <tr>\n",
       "      <th>3793</th>\n",
       "      <td>200709</td>\n",
       "    </tr>\n",
       "    <tr>\n",
       "      <th>3931</th>\n",
       "      <td>200710</td>\n",
       "    </tr>\n",
       "    <tr>\n",
       "      <th>3932</th>\n",
       "      <td>200710</td>\n",
       "    </tr>\n",
       "    <tr>\n",
       "      <th>4066</th>\n",
       "      <td>200711</td>\n",
       "    </tr>\n",
       "    <tr>\n",
       "      <th>...</th>\n",
       "      <td>...</td>\n",
       "    </tr>\n",
       "    <tr>\n",
       "      <th>20919</th>\n",
       "      <td>201712</td>\n",
       "    </tr>\n",
       "    <tr>\n",
       "      <th>20920</th>\n",
       "      <td>201712</td>\n",
       "    </tr>\n",
       "    <tr>\n",
       "      <th>20921</th>\n",
       "      <td>201712</td>\n",
       "    </tr>\n",
       "    <tr>\n",
       "      <th>20922</th>\n",
       "      <td>201712</td>\n",
       "    </tr>\n",
       "    <tr>\n",
       "      <th>20923</th>\n",
       "      <td>201712</td>\n",
       "    </tr>\n",
       "  </tbody>\n",
       "</table>\n",
       "<p>394 rows × 1 columns</p>\n",
       "</div>"
      ],
      "text/plain": [
       "      Activity Period\n",
       "3653           200708\n",
       "3793           200709\n",
       "3931           200710\n",
       "3932           200710\n",
       "4066           200711\n",
       "...               ...\n",
       "20919          201712\n",
       "20920          201712\n",
       "20921          201712\n",
       "20922          201712\n",
       "20923          201712\n",
       "\n",
       "[394 rows x 1 columns]"
      ]
     },
     "execution_count": 57,
     "metadata": {},
     "output_type": "execute_result"
    }
   ],
   "source": [
    "# virgin.head()\n",
    "virgin.loc[:, ['Activity Period']]"
   ]
  },
  {
   "cell_type": "code",
   "execution_count": 58,
   "metadata": {},
   "outputs": [
    {
     "data": {
      "text/html": [
       "<div>\n",
       "<style scoped>\n",
       "    .dataframe tbody tr th:only-of-type {\n",
       "        vertical-align: middle;\n",
       "    }\n",
       "\n",
       "    .dataframe tbody tr th {\n",
       "        vertical-align: top;\n",
       "    }\n",
       "\n",
       "    .dataframe thead th {\n",
       "        text-align: right;\n",
       "    }\n",
       "</style>\n",
       "<table border=\"1\" class=\"dataframe\">\n",
       "  <thead>\n",
       "    <tr style=\"text-align: right;\">\n",
       "      <th></th>\n",
       "      <th>Activity Period</th>\n",
       "      <th>Operating Airline</th>\n",
       "      <th>Operating Airline IATA Code</th>\n",
       "      <th>Published Airline</th>\n",
       "      <th>Published Airline IATA Code</th>\n",
       "      <th>GEO Summary</th>\n",
       "      <th>GEO Region</th>\n",
       "      <th>Landing Aircraft Type</th>\n",
       "      <th>Aircraft Body Type</th>\n",
       "      <th>Aircraft Manufacturer</th>\n",
       "      <th>Aircraft Model</th>\n",
       "      <th>Aircraft Version</th>\n",
       "      <th>Landing Count</th>\n",
       "      <th>Total Landed Weight</th>\n",
       "      <th>year</th>\n",
       "    </tr>\n",
       "  </thead>\n",
       "  <tbody>\n",
       "    <tr>\n",
       "      <th>3653</th>\n",
       "      <td>200708</td>\n",
       "      <td>Virgin America</td>\n",
       "      <td>VX</td>\n",
       "      <td>Virgin America</td>\n",
       "      <td>VX</td>\n",
       "      <td>Domestic</td>\n",
       "      <td>US</td>\n",
       "      <td>Passenger</td>\n",
       "      <td>Narrow Body</td>\n",
       "      <td>Airbus</td>\n",
       "      <td>A320</td>\n",
       "      <td>0</td>\n",
       "      <td>179</td>\n",
       "      <td>25453800</td>\n",
       "      <td>2007</td>\n",
       "    </tr>\n",
       "    <tr>\n",
       "      <th>3793</th>\n",
       "      <td>200709</td>\n",
       "      <td>Virgin America</td>\n",
       "      <td>VX</td>\n",
       "      <td>Virgin America</td>\n",
       "      <td>VX</td>\n",
       "      <td>Domestic</td>\n",
       "      <td>US</td>\n",
       "      <td>Passenger</td>\n",
       "      <td>Narrow Body</td>\n",
       "      <td>Airbus</td>\n",
       "      <td>A320</td>\n",
       "      <td>0</td>\n",
       "      <td>261</td>\n",
       "      <td>37114200</td>\n",
       "      <td>2007</td>\n",
       "    </tr>\n",
       "    <tr>\n",
       "      <th>3931</th>\n",
       "      <td>200710</td>\n",
       "      <td>Virgin America</td>\n",
       "      <td>VX</td>\n",
       "      <td>Virgin America</td>\n",
       "      <td>VX</td>\n",
       "      <td>Domestic</td>\n",
       "      <td>US</td>\n",
       "      <td>Passenger</td>\n",
       "      <td>Narrow Body</td>\n",
       "      <td>Airbus</td>\n",
       "      <td>A319</td>\n",
       "      <td>0</td>\n",
       "      <td>3</td>\n",
       "      <td>413400</td>\n",
       "      <td>2007</td>\n",
       "    </tr>\n",
       "    <tr>\n",
       "      <th>3932</th>\n",
       "      <td>200710</td>\n",
       "      <td>Virgin America</td>\n",
       "      <td>VX</td>\n",
       "      <td>Virgin America</td>\n",
       "      <td>VX</td>\n",
       "      <td>Domestic</td>\n",
       "      <td>US</td>\n",
       "      <td>Passenger</td>\n",
       "      <td>Narrow Body</td>\n",
       "      <td>Airbus</td>\n",
       "      <td>A320</td>\n",
       "      <td>0</td>\n",
       "      <td>388</td>\n",
       "      <td>55173600</td>\n",
       "      <td>2007</td>\n",
       "    </tr>\n",
       "    <tr>\n",
       "      <th>4066</th>\n",
       "      <td>200711</td>\n",
       "      <td>Virgin America</td>\n",
       "      <td>VX</td>\n",
       "      <td>Virgin America</td>\n",
       "      <td>VX</td>\n",
       "      <td>Domestic</td>\n",
       "      <td>US</td>\n",
       "      <td>Passenger</td>\n",
       "      <td>Narrow Body</td>\n",
       "      <td>Airbus</td>\n",
       "      <td>A319</td>\n",
       "      <td>0</td>\n",
       "      <td>85</td>\n",
       "      <td>11713000</td>\n",
       "      <td>2007</td>\n",
       "    </tr>\n",
       "  </tbody>\n",
       "</table>\n",
       "</div>"
      ],
      "text/plain": [
       "     Activity Period Operating Airline Operating Airline IATA Code  \\\n",
       "3653          200708    Virgin America                          VX   \n",
       "3793          200709    Virgin America                          VX   \n",
       "3931          200710    Virgin America                          VX   \n",
       "3932          200710    Virgin America                          VX   \n",
       "4066          200711    Virgin America                          VX   \n",
       "\n",
       "     Published Airline Published Airline IATA Code GEO Summary GEO Region  \\\n",
       "3653    Virgin America                          VX    Domestic         US   \n",
       "3793    Virgin America                          VX    Domestic         US   \n",
       "3931    Virgin America                          VX    Domestic         US   \n",
       "3932    Virgin America                          VX    Domestic         US   \n",
       "4066    Virgin America                          VX    Domestic         US   \n",
       "\n",
       "     Landing Aircraft Type Aircraft Body Type Aircraft Manufacturer  \\\n",
       "3653             Passenger        Narrow Body                Airbus   \n",
       "3793             Passenger        Narrow Body                Airbus   \n",
       "3931             Passenger        Narrow Body                Airbus   \n",
       "3932             Passenger        Narrow Body                Airbus   \n",
       "4066             Passenger        Narrow Body                Airbus   \n",
       "\n",
       "     Aircraft Model Aircraft Version  Landing Count  Total Landed Weight  year  \n",
       "3653           A320                0            179             25453800  2007  \n",
       "3793           A320                0            261             37114200  2007  \n",
       "3931           A319                0              3               413400  2007  \n",
       "3932           A320                0            388             55173600  2007  \n",
       "4066           A319                0             85             11713000  2007  "
      ]
     },
     "execution_count": 58,
     "metadata": {},
     "output_type": "execute_result"
    }
   ],
   "source": [
    "virgin['year']=virgin['Activity Period'].str.slice(0,4)\n",
    "virgin['year']=virgin['year'].astype('int')\n",
    "virgin.head()"
   ]
  },
  {
   "cell_type": "code",
   "execution_count": 59,
   "metadata": {},
   "outputs": [
    {
     "data": {
      "image/png": "[encoded data removed]",
      "text/plain": [
       "<Figure size 1000x500 with 1 Axes>"
      ]
     },
     "metadata": {},
     "output_type": "display_data"
    }
   ],
   "source": [
    "virgin.groupby('year',as_index=False)['Total Landed Weight'].agg('sum').set_index('year').plot(kind='bar',figsize=(10,5))\n",
    "plt.title('Landing Weight Distribution of Virgin America')\n",
    "plt.ylabel('Landing Weight(x10^8)')\n",
    "plt.show()"
   ]
  },
  {
   "cell_type": "markdown",
   "metadata": {},
   "source": [
    "This graph depicts the rise of Virgin America in San Francisco. It had a great rise in 2012 and ultimately passed the 3x10^8 mark in 2017."
   ]
  },
  {
   "cell_type": "code",
   "execution_count": 60,
   "metadata": {},
   "outputs": [
    {
     "data": {
      "text/plain": [
       "Operating Airline\n",
       "United Airlines - Pre 07/01/2013    44236\n",
       "United Airlines                     38976\n",
       "Air Canada                          34308\n",
       "SkyWest Airlines                    25105\n",
       "Alaska Airlines                     10278\n",
       "Name: Landing Count, dtype: int64"
      ]
     },
     "execution_count": 60,
     "metadata": {},
     "output_type": "execute_result"
    }
   ],
   "source": [
    "#2 \n",
    "inter=dec_7_17[dec_7_17['GEO Summary']=='International']\n",
    "inter.groupby('Operating Airline')['Landing Count'].agg('sum').sort_values(ascending=False).head()"
   ]
  },
  {
   "cell_type": "markdown",
   "metadata": {},
   "source": [
    "It can be seen that there is some problem with the United Airlines entry. There are two entries: United Airlines and United Airlines Pre 07/01/2013.And both are the airlines with maximum number of landings at SF."
   ]
  },
  {
   "cell_type": "code",
   "execution_count": 61,
   "metadata": {},
   "outputs": [
    {
     "data": {
      "image/png": "[encoded data removed]",
      "text/plain": [
       "<Figure size 640x480 with 1 Axes>"
      ]
     },
     "metadata": {},
     "output_type": "display_data"
    }
   ],
   "source": [
    "united=inter[(inter['Operating Airline']=='United Airlines') | (inter['Operating Airline']=='United Airlines - Pre 07/01/2013')]\n",
    "united['Activity Period']=united['Activity Period'].astype('str')\n",
    "united['year']=united['Activity Period'].str.slice(0,4)\n",
    "united['year']=united['year'].astype('int')\n",
    "united.groupby('year')['Landing Count'].agg('sum').plot(kind='bar')\n",
    "plt.title('United Airlines Landing Count')\n",
    "plt.ylabel('Landing Count')\n",
    "plt.show()"
   ]
  },
  {
   "cell_type": "markdown",
   "metadata": {},
   "source": [
    "United Airlines is the airline which has most number of landings at SF. Its landing count, in the decade 2007 to 2017, is depicted in this graph. Its landing count first decreased till 2009-2010 but continued to increase till 2017 when it crossed the 10000 mark ultimately showing its dominance over other airlines operating at SF."
   ]
  },
  {
   "cell_type": "code",
   "execution_count": 62,
   "metadata": {},
   "outputs": [
    {
     "data": {
      "text/html": [
       "<div>\n",
       "<style scoped>\n",
       "    .dataframe tbody tr th:only-of-type {\n",
       "        vertical-align: middle;\n",
       "    }\n",
       "\n",
       "    .dataframe tbody tr th {\n",
       "        vertical-align: top;\n",
       "    }\n",
       "\n",
       "    .dataframe thead th {\n",
       "        text-align: right;\n",
       "    }\n",
       "</style>\n",
       "<table border=\"1\" class=\"dataframe\">\n",
       "  <thead>\n",
       "    <tr style=\"text-align: right;\">\n",
       "      <th></th>\n",
       "      <th>index</th>\n",
       "      <th>Operating Airline</th>\n",
       "      <th>Landing Count</th>\n",
       "    </tr>\n",
       "  </thead>\n",
       "  <tbody>\n",
       "    <tr>\n",
       "      <th>0</th>\n",
       "      <td>35</td>\n",
       "      <td>SkyWest Airlines</td>\n",
       "      <td>463958</td>\n",
       "    </tr>\n",
       "    <tr>\n",
       "      <th>1</th>\n",
       "      <td>44</td>\n",
       "      <td>United Airlines</td>\n",
       "      <td>285863</td>\n",
       "    </tr>\n",
       "    <tr>\n",
       "      <th>2</th>\n",
       "      <td>45</td>\n",
       "      <td>United Airlines - Pre 07/01/2013</td>\n",
       "      <td>251029</td>\n",
       "    </tr>\n",
       "    <tr>\n",
       "      <th>3</th>\n",
       "      <td>47</td>\n",
       "      <td>Virgin America</td>\n",
       "      <td>155329</td>\n",
       "    </tr>\n",
       "    <tr>\n",
       "      <th>4</th>\n",
       "      <td>37</td>\n",
       "      <td>Southwest Airlines</td>\n",
       "      <td>151422</td>\n",
       "    </tr>\n",
       "  </tbody>\n",
       "</table>\n",
       "</div>"
      ],
      "text/plain": [
       "   index                 Operating Airline  Landing Count\n",
       "0     35                  SkyWest Airlines         463958\n",
       "1     44                   United Airlines         285863\n",
       "2     45  United Airlines - Pre 07/01/2013         251029\n",
       "3     47                    Virgin America         155329\n",
       "4     37                Southwest Airlines         151422"
      ]
     },
     "execution_count": 62,
     "metadata": {},
     "output_type": "execute_result"
    }
   ],
   "source": [
    "#3 \n",
    "top_air=dec_7_17[dec_7_17['GEO Summary']==\"Domestic\"].groupby('Operating Airline',as_index=False)['Landing Count'].agg('sum').sort_values('Landing Count',ascending=False).reset_index().head()\n",
    "top_air.head()"
   ]
  },
  {
   "cell_type": "markdown",
   "metadata": {},
   "source": [
    "These are the top 5 Domestic airlines which perform most landings at SF."
   ]
  },
  {
   "cell_type": "code",
   "execution_count": 63,
   "metadata": {},
   "outputs": [],
   "source": [
    "air=list(top_air.drop_duplicates(subset='Operating Airline',keep='last')['Operating Airline'])\n",
    "top_air=dec_7_17[((dec_7_17['Operating Airline']==air[0])|(dec_7_17['Operating Airline']==air[1])|(dec_7_17['Operating Airline']==air[2])|(dec_7_17['Operating Airline']==air[3])|(dec_7_17['Operating Airline']==air[4]))&(dec_7_17['GEO Summary']=='Domestic')]"
   ]
  },
  {
   "cell_type": "code",
   "execution_count": 64,
   "metadata": {},
   "outputs": [],
   "source": [
    "top_air['Activity Period']=top_air['Activity Period'].astype('str')\n",
    "top_air['year']=top_air['Activity Period'].str.slice(0,4)\n",
    "top_air['year']=top_air['year'].astype('int')"
   ]
  },
  {
   "cell_type": "code",
   "execution_count": 65,
   "metadata": {},
   "outputs": [
    {
     "data": {
      "image/png": "[encoded data removed]",
      "text/plain": [
       "<Figure size 2000x1000 with 1 Axes>"
      ]
     },
     "metadata": {},
     "output_type": "display_data"
    }
   ],
   "source": [
    "top_air.groupby(['year','Operating Airline'],as_index=False)['Landing Count'].agg('sum').pivot_table(index='Operating Airline',columns='year',values='Landing Count').transpose().plot(kind='area',stacked=False,alpha=0.5,figsize=(20,10))\n",
    "plt.title('Landing trend of Top 5 Domestic Airlines at SF')\n",
    "plt.ylabel('No. of landings')\n",
    "plt.show()"
   ]
  },
  {
   "cell_type": "markdown",
   "metadata": {},
   "source": [
    "This graph shows that SkyWest Airlines, which is the best Domestic Airline, had its landings maximum in the year 2012. After that it is continuously losing its position. Since there was a problem with the entry of United Airlines, let us consider the pre2013 first and then the actual, to be the continuation of the graph of United Airlines. On analysing, we get that United Airlines is gaining its popularity in SF with growing years and is going to be the number 1 in the upcoming years. While United is busy maintaing its position, Virgin America and Southwest Airlines are fighting their own market. The growing graphs of the former mentioned airlines show that they have tough competition among themselves and are fighting their way out. While Southwest has not seen any growth in its landings in the later part of the decade, Virgin has a very slow rate of growth in every three years. "
   ]
  },
  {
   "cell_type": "code",
   "execution_count": 66,
   "metadata": {},
   "outputs": [
    {
     "data": {
      "text/html": [
       "<div>\n",
       "<style scoped>\n",
       "    .dataframe tbody tr th:only-of-type {\n",
       "        vertical-align: middle;\n",
       "    }\n",
       "\n",
       "    .dataframe tbody tr th {\n",
       "        vertical-align: top;\n",
       "    }\n",
       "\n",
       "    .dataframe thead th {\n",
       "        text-align: right;\n",
       "    }\n",
       "</style>\n",
       "<table border=\"1\" class=\"dataframe\">\n",
       "  <thead>\n",
       "    <tr style=\"text-align: right;\">\n",
       "      <th></th>\n",
       "      <th>Operating Airline</th>\n",
       "      <th>Landing Count</th>\n",
       "    </tr>\n",
       "  </thead>\n",
       "  <tbody>\n",
       "    <tr>\n",
       "      <th>16</th>\n",
       "      <td>Federal Express</td>\n",
       "      <td>5691</td>\n",
       "    </tr>\n",
       "    <tr>\n",
       "      <th>0</th>\n",
       "      <td>ABX Air</td>\n",
       "      <td>5489</td>\n",
       "    </tr>\n",
       "    <tr>\n",
       "      <th>22</th>\n",
       "      <td>Korean Air Lines</td>\n",
       "      <td>3904</td>\n",
       "    </tr>\n",
       "    <tr>\n",
       "      <th>4</th>\n",
       "      <td>Ameriflight</td>\n",
       "      <td>3814</td>\n",
       "    </tr>\n",
       "    <tr>\n",
       "      <th>23</th>\n",
       "      <td>Nippon Cargo Airlines</td>\n",
       "      <td>3381</td>\n",
       "    </tr>\n",
       "  </tbody>\n",
       "</table>\n",
       "</div>"
      ],
      "text/plain": [
       "        Operating Airline  Landing Count\n",
       "16        Federal Express           5691\n",
       "0                 ABX Air           5489\n",
       "22       Korean Air Lines           3904\n",
       "4             Ameriflight           3814\n",
       "23  Nippon Cargo Airlines           3381"
      ]
     },
     "execution_count": 66,
     "metadata": {},
     "output_type": "execute_result"
    }
   ],
   "source": [
    "#4\n",
    "top_freighter=dec_7_17[dec_7_17['Landing Aircraft Type']=='Freighter'].groupby('Operating Airline',as_index=False)['Landing Count'].agg('sum').sort_values('Landing Count',ascending=False).head()\n",
    "top_freighter.head()"
   ]
  },
  {
   "cell_type": "markdown",
   "metadata": {},
   "source": [
    "Federal Express is the top freighter airline followed by ABX Air and so on."
   ]
  },
  {
   "cell_type": "code",
   "execution_count": 67,
   "metadata": {},
   "outputs": [
    {
     "data": {
      "text/html": [
       "<div>\n",
       "<style scoped>\n",
       "    .dataframe tbody tr th:only-of-type {\n",
       "        vertical-align: middle;\n",
       "    }\n",
       "\n",
       "    .dataframe tbody tr th {\n",
       "        vertical-align: top;\n",
       "    }\n",
       "\n",
       "    .dataframe thead th {\n",
       "        text-align: right;\n",
       "    }\n",
       "</style>\n",
       "<table border=\"1\" class=\"dataframe\">\n",
       "  <thead>\n",
       "    <tr style=\"text-align: right;\">\n",
       "      <th></th>\n",
       "      <th>Operating Airline</th>\n",
       "      <th>Aircraft Manufacturer</th>\n",
       "      <th>Landing Count</th>\n",
       "    </tr>\n",
       "  </thead>\n",
       "  <tbody>\n",
       "    <tr>\n",
       "      <th>0</th>\n",
       "      <td>ABX Air</td>\n",
       "      <td>Boeing</td>\n",
       "      <td>114</td>\n",
       "    </tr>\n",
       "    <tr>\n",
       "      <th>1</th>\n",
       "      <td>ABX Air</td>\n",
       "      <td>McDonnell Douglas</td>\n",
       "      <td>26</td>\n",
       "    </tr>\n",
       "    <tr>\n",
       "      <th>2</th>\n",
       "      <td>Ameriflight</td>\n",
       "      <td>BAE-Avro</td>\n",
       "      <td>4</td>\n",
       "    </tr>\n",
       "    <tr>\n",
       "      <th>3</th>\n",
       "      <td>Ameriflight</td>\n",
       "      <td>Beechcraft</td>\n",
       "      <td>164</td>\n",
       "    </tr>\n",
       "    <tr>\n",
       "      <th>4</th>\n",
       "      <td>Ameriflight</td>\n",
       "      <td>Fairchild</td>\n",
       "      <td>59</td>\n",
       "    </tr>\n",
       "    <tr>\n",
       "      <th>5</th>\n",
       "      <td>Ameriflight</td>\n",
       "      <td>LearJet</td>\n",
       "      <td>11</td>\n",
       "    </tr>\n",
       "    <tr>\n",
       "      <th>6</th>\n",
       "      <td>Ameriflight</td>\n",
       "      <td>Piper</td>\n",
       "      <td>6</td>\n",
       "    </tr>\n",
       "    <tr>\n",
       "      <th>7</th>\n",
       "      <td>Federal Express</td>\n",
       "      <td>Airbus</td>\n",
       "      <td>177</td>\n",
       "    </tr>\n",
       "    <tr>\n",
       "      <th>8</th>\n",
       "      <td>Federal Express</td>\n",
       "      <td>Boeing</td>\n",
       "      <td>26</td>\n",
       "    </tr>\n",
       "    <tr>\n",
       "      <th>9</th>\n",
       "      <td>Federal Express</td>\n",
       "      <td>McDonnell Douglas</td>\n",
       "      <td>174</td>\n",
       "    </tr>\n",
       "  </tbody>\n",
       "</table>\n",
       "</div>"
      ],
      "text/plain": [
       "  Operating Airline Aircraft Manufacturer  Landing Count\n",
       "0           ABX Air                Boeing            114\n",
       "1           ABX Air     McDonnell Douglas             26\n",
       "2       Ameriflight              BAE-Avro              4\n",
       "3       Ameriflight            Beechcraft            164\n",
       "4       Ameriflight             Fairchild             59\n",
       "5       Ameriflight               LearJet             11\n",
       "6       Ameriflight                 Piper              6\n",
       "7   Federal Express                Airbus            177\n",
       "8   Federal Express                Boeing             26\n",
       "9   Federal Express     McDonnell Douglas            174"
      ]
     },
     "execution_count": 67,
     "metadata": {},
     "output_type": "execute_result"
    }
   ],
   "source": [
    "dec_7_17[(dec_7_17['Operating Airline']=='Federal Express')|(dec_7_17['Operating Airline']=='ABX Air')|(dec_7_17['Operating Airline']=='Korean Air Lines')|(dec_7_17['Operating Airline']=='Nippon Cargo Airlines')|(dec_7_17['Operating Airline']=='Ameriflight')].groupby(['Operating Airline','Aircraft Manufacturer'],as_index=False)['Landing Count'].agg('count').head(10)"
   ]
  },
  {
   "cell_type": "markdown",
   "metadata": {},
   "source": [
    "Looks like the leader: Federal Express prefers Airbus and McDonnell Douglas while Korean Airlines and Nippon Cargo Airlines believe in Boeing. ABX Air also belives in Boeing. Sice Ameriflight is a small cargo airline ar SF, buying Boeing cargo planes are not possible for it. That's why it uses Beechcraft more, which is a small aircraft. "
   ]
  },
  {
   "cell_type": "code",
   "execution_count": 68,
   "metadata": {},
   "outputs": [
    {
     "data": {
      "text/plain": [
       "Aircraft Manufacturer\n",
       "Boeing               12955682215\n",
       "McDonnell Douglas     1609811490\n",
       "Airbus                 498999470\n",
       "Shorts                  37622000\n",
       "Beechcraft              30624280\n",
       "Fairchild               20846000\n",
       "Cessna                   3281000\n",
       "LearJet                   260100\n",
       "Piper                      67500\n",
       "BAE-Avro                   62500\n",
       "Name: Total Landed Weight, dtype: int64"
      ]
     },
     "execution_count": 68,
     "metadata": {},
     "output_type": "execute_result"
    }
   ],
   "source": [
    "\n",
    "dec_7_17[dec_7_17['Landing Aircraft Type']=='Freighter'].groupby('Aircraft Manufacturer')['Total Landed Weight'].agg('sum').sort_values(ascending=False).head(10)"
   ]
  },
  {
   "cell_type": "markdown",
   "metadata": {},
   "source": [
    "Looks like Boeing is the company which manufactures aircrafts which carries more weight than other companies' aircrafts."
   ]
  },
  {
   "cell_type": "code",
   "execution_count": 69,
   "metadata": {},
   "outputs": [
    {
     "data": {
      "text/html": [
       "<div>\n",
       "<style scoped>\n",
       "    .dataframe tbody tr th:only-of-type {\n",
       "        vertical-align: middle;\n",
       "    }\n",
       "\n",
       "    .dataframe tbody tr th {\n",
       "        vertical-align: top;\n",
       "    }\n",
       "\n",
       "    .dataframe thead th {\n",
       "        text-align: right;\n",
       "    }\n",
       "</style>\n",
       "<table border=\"1\" class=\"dataframe\">\n",
       "  <thead>\n",
       "    <tr style=\"text-align: right;\">\n",
       "      <th></th>\n",
       "      <th>Aircraft Model</th>\n",
       "      <th>Aircraft Version</th>\n",
       "      <th>Total Landed Weight</th>\n",
       "    </tr>\n",
       "  </thead>\n",
       "  <tbody>\n",
       "    <tr>\n",
       "      <th>14</th>\n",
       "      <td>747</td>\n",
       "      <td>400F</td>\n",
       "      <td>5144785200</td>\n",
       "    </tr>\n",
       "    <tr>\n",
       "      <th>16</th>\n",
       "      <td>747</td>\n",
       "      <td>800</td>\n",
       "      <td>1515862970</td>\n",
       "    </tr>\n",
       "    <tr>\n",
       "      <th>20</th>\n",
       "      <td>767</td>\n",
       "      <td>-</td>\n",
       "      <td>1347259000</td>\n",
       "    </tr>\n",
       "    <tr>\n",
       "      <th>26</th>\n",
       "      <td>B744</td>\n",
       "      <td>-</td>\n",
       "      <td>887627000</td>\n",
       "    </tr>\n",
       "    <tr>\n",
       "      <th>9</th>\n",
       "      <td>747</td>\n",
       "      <td>400</td>\n",
       "      <td>875069398</td>\n",
       "    </tr>\n",
       "    <tr>\n",
       "      <th>27</th>\n",
       "      <td>B748</td>\n",
       "      <td>-</td>\n",
       "      <td>848518000</td>\n",
       "    </tr>\n",
       "    <tr>\n",
       "      <th>6</th>\n",
       "      <td>747</td>\n",
       "      <td>200</td>\n",
       "      <td>632520000</td>\n",
       "    </tr>\n",
       "    <tr>\n",
       "      <th>3</th>\n",
       "      <td>747</td>\n",
       "      <td>0</td>\n",
       "      <td>401168000</td>\n",
       "    </tr>\n",
       "    <tr>\n",
       "      <th>13</th>\n",
       "      <td>747</td>\n",
       "      <td>400ERF</td>\n",
       "      <td>371557000</td>\n",
       "    </tr>\n",
       "    <tr>\n",
       "      <th>29</th>\n",
       "      <td>B762</td>\n",
       "      <td>-</td>\n",
       "      <td>230939000</td>\n",
       "    </tr>\n",
       "    <tr>\n",
       "      <th>19</th>\n",
       "      <td>767</td>\n",
       "      <td>0</td>\n",
       "      <td>221589000</td>\n",
       "    </tr>\n",
       "    <tr>\n",
       "      <th>30</th>\n",
       "      <td>B763</td>\n",
       "      <td>-</td>\n",
       "      <td>201128000</td>\n",
       "    </tr>\n",
       "    <tr>\n",
       "      <th>21</th>\n",
       "      <td>767</td>\n",
       "      <td>300</td>\n",
       "      <td>104266000</td>\n",
       "    </tr>\n",
       "    <tr>\n",
       "      <th>12</th>\n",
       "      <td>747</td>\n",
       "      <td>400ER</td>\n",
       "      <td>71177000</td>\n",
       "    </tr>\n",
       "    <tr>\n",
       "      <th>7</th>\n",
       "      <td>747</td>\n",
       "      <td>200F</td>\n",
       "      <td>29610000</td>\n",
       "    </tr>\n",
       "  </tbody>\n",
       "</table>\n",
       "</div>"
      ],
      "text/plain": [
       "   Aircraft Model Aircraft Version  Total Landed Weight\n",
       "14            747             400F           5144785200\n",
       "16            747              800           1515862970\n",
       "20            767                -           1347259000\n",
       "26           B744                -            887627000\n",
       "9             747              400            875069398\n",
       "27           B748                -            848518000\n",
       "6             747              200            632520000\n",
       "3             747                0            401168000\n",
       "13            747           400ERF            371557000\n",
       "29           B762                -            230939000\n",
       "19            767                0            221589000\n",
       "30           B763                -            201128000\n",
       "21            767              300            104266000\n",
       "12            747            400ER             71177000\n",
       "7             747             200F             29610000"
      ]
     },
     "execution_count": 69,
     "metadata": {},
     "output_type": "execute_result"
    }
   ],
   "source": [
    "# Let us find which aircraft of Boeing carries the most weight\n",
    "dec_7_17[(dec_7_17['Aircraft Manufacturer']==\"Boeing\")&(dec_7_17['Landing Aircraft Type']=='Freighter')].groupby(['Aircraft Model','Aircraft Version'],as_index=False)['Total Landed Weight'].agg('sum').sort_values('Total Landed Weight',ascending=False).head(15)"
   ]
  },
  {
   "cell_type": "markdown",
   "metadata": {},
   "source": [
    "# Passenger data"
   ]
  },
  {
   "cell_type": "code",
   "execution_count": 70,
   "metadata": {},
   "outputs": [
    {
     "data": {
      "text/html": [
       "<div>\n",
       "<style scoped>\n",
       "    .dataframe tbody tr th:only-of-type {\n",
       "        vertical-align: middle;\n",
       "    }\n",
       "\n",
       "    .dataframe tbody tr th {\n",
       "        vertical-align: top;\n",
       "    }\n",
       "\n",
       "    .dataframe thead th {\n",
       "        text-align: right;\n",
       "    }\n",
       "</style>\n",
       "<table border=\"1\" class=\"dataframe\">\n",
       "  <thead>\n",
       "    <tr style=\"text-align: right;\">\n",
       "      <th></th>\n",
       "      <th>Activity Period</th>\n",
       "      <th>Operating Airline</th>\n",
       "      <th>Operating Airline IATA Code</th>\n",
       "      <th>Published Airline</th>\n",
       "      <th>Published Airline IATA Code</th>\n",
       "      <th>GEO Summary</th>\n",
       "      <th>GEO Region</th>\n",
       "      <th>Activity Type Code</th>\n",
       "      <th>Price Category Code</th>\n",
       "      <th>Terminal</th>\n",
       "      <th>Boarding Area</th>\n",
       "      <th>Passenger Count</th>\n",
       "    </tr>\n",
       "  </thead>\n",
       "  <tbody>\n",
       "    <tr>\n",
       "      <th>0</th>\n",
       "      <td>200507</td>\n",
       "      <td>ATA Airlines</td>\n",
       "      <td>TZ</td>\n",
       "      <td>ATA Airlines</td>\n",
       "      <td>TZ</td>\n",
       "      <td>Domestic</td>\n",
       "      <td>US</td>\n",
       "      <td>Deplaned</td>\n",
       "      <td>Low Fare</td>\n",
       "      <td>Terminal 1</td>\n",
       "      <td>B</td>\n",
       "      <td>27271</td>\n",
       "    </tr>\n",
       "    <tr>\n",
       "      <th>1</th>\n",
       "      <td>200507</td>\n",
       "      <td>ATA Airlines</td>\n",
       "      <td>TZ</td>\n",
       "      <td>ATA Airlines</td>\n",
       "      <td>TZ</td>\n",
       "      <td>Domestic</td>\n",
       "      <td>US</td>\n",
       "      <td>Enplaned</td>\n",
       "      <td>Low Fare</td>\n",
       "      <td>Terminal 1</td>\n",
       "      <td>B</td>\n",
       "      <td>29131</td>\n",
       "    </tr>\n",
       "    <tr>\n",
       "      <th>2</th>\n",
       "      <td>200507</td>\n",
       "      <td>ATA Airlines</td>\n",
       "      <td>TZ</td>\n",
       "      <td>ATA Airlines</td>\n",
       "      <td>TZ</td>\n",
       "      <td>Domestic</td>\n",
       "      <td>US</td>\n",
       "      <td>Thru / Transit</td>\n",
       "      <td>Low Fare</td>\n",
       "      <td>Terminal 1</td>\n",
       "      <td>B</td>\n",
       "      <td>5415</td>\n",
       "    </tr>\n",
       "    <tr>\n",
       "      <th>3</th>\n",
       "      <td>200507</td>\n",
       "      <td>Air Canada</td>\n",
       "      <td>AC</td>\n",
       "      <td>Air Canada</td>\n",
       "      <td>AC</td>\n",
       "      <td>International</td>\n",
       "      <td>Canada</td>\n",
       "      <td>Deplaned</td>\n",
       "      <td>Other</td>\n",
       "      <td>Terminal 1</td>\n",
       "      <td>B</td>\n",
       "      <td>35156</td>\n",
       "    </tr>\n",
       "    <tr>\n",
       "      <th>4</th>\n",
       "      <td>200507</td>\n",
       "      <td>Air Canada</td>\n",
       "      <td>AC</td>\n",
       "      <td>Air Canada</td>\n",
       "      <td>AC</td>\n",
       "      <td>International</td>\n",
       "      <td>Canada</td>\n",
       "      <td>Enplaned</td>\n",
       "      <td>Other</td>\n",
       "      <td>Terminal 1</td>\n",
       "      <td>B</td>\n",
       "      <td>34090</td>\n",
       "    </tr>\n",
       "  </tbody>\n",
       "</table>\n",
       "</div>"
      ],
      "text/plain": [
       "   Activity Period Operating Airline Operating Airline IATA Code  \\\n",
       "0           200507      ATA Airlines                          TZ   \n",
       "1           200507      ATA Airlines                          TZ   \n",
       "2           200507      ATA Airlines                          TZ   \n",
       "3           200507        Air Canada                          AC   \n",
       "4           200507        Air Canada                          AC   \n",
       "\n",
       "  Published Airline Published Airline IATA Code    GEO Summary GEO Region  \\\n",
       "0      ATA Airlines                          TZ       Domestic         US   \n",
       "1      ATA Airlines                          TZ       Domestic         US   \n",
       "2      ATA Airlines                          TZ       Domestic         US   \n",
       "3        Air Canada                          AC  International     Canada   \n",
       "4        Air Canada                          AC  International     Canada   \n",
       "\n",
       "  Activity Type Code Price Category Code    Terminal Boarding Area  \\\n",
       "0           Deplaned            Low Fare  Terminal 1             B   \n",
       "1           Enplaned            Low Fare  Terminal 1             B   \n",
       "2     Thru / Transit            Low Fare  Terminal 1             B   \n",
       "3           Deplaned               Other  Terminal 1             B   \n",
       "4           Enplaned               Other  Terminal 1             B   \n",
       "\n",
       "   Passenger Count  \n",
       "0            27271  \n",
       "1            29131  \n",
       "2             5415  \n",
       "3            35156  \n",
       "4            34090  "
      ]
     },
     "execution_count": 70,
     "metadata": {},
     "output_type": "execute_result"
    }
   ],
   "source": [
    "passengers.head()"
   ]
  },
  {
   "cell_type": "markdown",
   "metadata": {},
   "source": [
    "# Missing data "
   ]
  },
  {
   "cell_type": "code",
   "execution_count": 71,
   "metadata": {},
   "outputs": [
    {
     "data": {
      "text/plain": [
       "Activity Period                 0\n",
       "Operating Airline               0\n",
       "Operating Airline IATA Code    63\n",
       "Published Airline               0\n",
       "Published Airline IATA Code    63\n",
       "GEO Summary                     0\n",
       "GEO Region                      0\n",
       "Activity Type Code              0\n",
       "Price Category Code             0\n",
       "Terminal                        0\n",
       "Boarding Area                   0\n",
       "Passenger Count                 0\n",
       "dtype: int64"
      ]
     },
     "execution_count": 71,
     "metadata": {},
     "output_type": "execute_result"
    }
   ],
   "source": [
    "passengers.isnull().sum()"
   ]
  },
  {
   "cell_type": "markdown",
   "metadata": {},
   "source": [
    "No missing data other than IATA code which is of no use to us."
   ]
  },
  {
   "cell_type": "markdown",
   "metadata": {},
   "source": [
    "# Analysis"
   ]
  },
  {
   "cell_type": "code",
   "execution_count": 72,
   "metadata": {},
   "outputs": [],
   "source": [
    "#1 Bar graph of the total number of passengers travelling through SF in each year in the period(2007-17)\n",
    "#2 Which Terminal of SF handles maximum passengers over a course of 10years(7-17)(Area graph)\n",
    "#3 Bar graph comparison of passengers deplaned, enplaned and thru/transit at SF per year(7-17)\n",
    "#4 Which domestic airline is at its peak in its business per year(7-17)\n",
    "#5 To which international GEO region do the passengers of SF travel most per year(7-17) and give its distribution of passenger count in heatmap of top 5 airlines"
   ]
  },
  {
   "cell_type": "markdown",
   "metadata": {},
   "source": [
    "Since all the analysis are to be done in the decade 2007-17, let us slice out the decade from the total data."
   ]
  },
  {
   "cell_type": "code",
   "execution_count": 73,
   "metadata": {
    "scrolled": true
   },
   "outputs": [
    {
     "data": {
      "text/html": [
       "<div>\n",
       "<style scoped>\n",
       "    .dataframe tbody tr th:only-of-type {\n",
       "        vertical-align: middle;\n",
       "    }\n",
       "\n",
       "    .dataframe tbody tr th {\n",
       "        vertical-align: top;\n",
       "    }\n",
       "\n",
       "    .dataframe thead th {\n",
       "        text-align: right;\n",
       "    }\n",
       "</style>\n",
       "<table border=\"1\" class=\"dataframe\">\n",
       "  <thead>\n",
       "    <tr style=\"text-align: right;\">\n",
       "      <th></th>\n",
       "      <th>Activity Period</th>\n",
       "      <th>Operating Airline</th>\n",
       "      <th>Operating Airline IATA Code</th>\n",
       "      <th>Published Airline</th>\n",
       "      <th>Published Airline IATA Code</th>\n",
       "      <th>GEO Summary</th>\n",
       "      <th>GEO Region</th>\n",
       "      <th>Activity Type Code</th>\n",
       "      <th>Price Category Code</th>\n",
       "      <th>Terminal</th>\n",
       "      <th>Boarding Area</th>\n",
       "      <th>Passenger Count</th>\n",
       "    </tr>\n",
       "  </thead>\n",
       "  <tbody>\n",
       "    <tr>\n",
       "      <th>2064</th>\n",
       "      <td>200701</td>\n",
       "      <td>ATA Airlines</td>\n",
       "      <td>TZ</td>\n",
       "      <td>ATA Airlines</td>\n",
       "      <td>TZ</td>\n",
       "      <td>Domestic</td>\n",
       "      <td>US</td>\n",
       "      <td>Deplaned</td>\n",
       "      <td>Low Fare</td>\n",
       "      <td>International</td>\n",
       "      <td>A</td>\n",
       "      <td>48</td>\n",
       "    </tr>\n",
       "    <tr>\n",
       "      <th>2065</th>\n",
       "      <td>200701</td>\n",
       "      <td>ATA Airlines</td>\n",
       "      <td>TZ</td>\n",
       "      <td>ATA Airlines</td>\n",
       "      <td>TZ</td>\n",
       "      <td>Domestic</td>\n",
       "      <td>US</td>\n",
       "      <td>Enplaned</td>\n",
       "      <td>Low Fare</td>\n",
       "      <td>International</td>\n",
       "      <td>A</td>\n",
       "      <td>48</td>\n",
       "    </tr>\n",
       "    <tr>\n",
       "      <th>2066</th>\n",
       "      <td>200701</td>\n",
       "      <td>Air Canada</td>\n",
       "      <td>AC</td>\n",
       "      <td>Air Canada</td>\n",
       "      <td>AC</td>\n",
       "      <td>International</td>\n",
       "      <td>Canada</td>\n",
       "      <td>Deplaned</td>\n",
       "      <td>Other</td>\n",
       "      <td>Terminal 3</td>\n",
       "      <td>E</td>\n",
       "      <td>19541</td>\n",
       "    </tr>\n",
       "    <tr>\n",
       "      <th>2067</th>\n",
       "      <td>200701</td>\n",
       "      <td>Air Canada</td>\n",
       "      <td>AC</td>\n",
       "      <td>Air Canada</td>\n",
       "      <td>AC</td>\n",
       "      <td>International</td>\n",
       "      <td>Canada</td>\n",
       "      <td>Enplaned</td>\n",
       "      <td>Other</td>\n",
       "      <td>Terminal 3</td>\n",
       "      <td>E</td>\n",
       "      <td>18824</td>\n",
       "    </tr>\n",
       "    <tr>\n",
       "      <th>2068</th>\n",
       "      <td>200701</td>\n",
       "      <td>Air China</td>\n",
       "      <td>CA</td>\n",
       "      <td>Air China</td>\n",
       "      <td>CA</td>\n",
       "      <td>International</td>\n",
       "      <td>Asia</td>\n",
       "      <td>Deplaned</td>\n",
       "      <td>Other</td>\n",
       "      <td>International</td>\n",
       "      <td>G</td>\n",
       "      <td>4845</td>\n",
       "    </tr>\n",
       "  </tbody>\n",
       "</table>\n",
       "</div>"
      ],
      "text/plain": [
       "      Activity Period Operating Airline Operating Airline IATA Code  \\\n",
       "2064           200701      ATA Airlines                          TZ   \n",
       "2065           200701      ATA Airlines                          TZ   \n",
       "2066           200701        Air Canada                          AC   \n",
       "2067           200701        Air Canada                          AC   \n",
       "2068           200701         Air China                          CA   \n",
       "\n",
       "     Published Airline Published Airline IATA Code    GEO Summary GEO Region  \\\n",
       "2064      ATA Airlines                          TZ       Domestic         US   \n",
       "2065      ATA Airlines                          TZ       Domestic         US   \n",
       "2066        Air Canada                          AC  International     Canada   \n",
       "2067        Air Canada                          AC  International     Canada   \n",
       "2068         Air China                          CA  International       Asia   \n",
       "\n",
       "     Activity Type Code Price Category Code       Terminal Boarding Area  \\\n",
       "2064           Deplaned            Low Fare  International             A   \n",
       "2065           Enplaned            Low Fare  International             A   \n",
       "2066           Deplaned               Other     Terminal 3             E   \n",
       "2067           Enplaned               Other     Terminal 3             E   \n",
       "2068           Deplaned               Other  International             G   \n",
       "\n",
       "      Passenger Count  \n",
       "2064               48  \n",
       "2065               48  \n",
       "2066            19541  \n",
       "2067            18824  \n",
       "2068             4845  "
      ]
     },
     "execution_count": 73,
     "metadata": {},
     "output_type": "execute_result"
    }
   ],
   "source": [
    "pax7_17=passengers[(passengers['Activity Period']>200700) & (passengers['Activity Period']<201800)]\n",
    "pax7_17.head()"
   ]
  },
  {
   "cell_type": "code",
   "execution_count": 74,
   "metadata": {},
   "outputs": [
    {
     "data": {
      "text/html": [
       "<div>\n",
       "<style scoped>\n",
       "    .dataframe tbody tr th:only-of-type {\n",
       "        vertical-align: middle;\n",
       "    }\n",
       "\n",
       "    .dataframe tbody tr th {\n",
       "        vertical-align: top;\n",
       "    }\n",
       "\n",
       "    .dataframe thead th {\n",
       "        text-align: right;\n",
       "    }\n",
       "</style>\n",
       "<table border=\"1\" class=\"dataframe\">\n",
       "  <thead>\n",
       "    <tr style=\"text-align: right;\">\n",
       "      <th></th>\n",
       "      <th>Activity Period</th>\n",
       "      <th>Operating Airline</th>\n",
       "      <th>Operating Airline IATA Code</th>\n",
       "      <th>Published Airline</th>\n",
       "      <th>Published Airline IATA Code</th>\n",
       "      <th>GEO Summary</th>\n",
       "      <th>GEO Region</th>\n",
       "      <th>Activity Type Code</th>\n",
       "      <th>Price Category Code</th>\n",
       "      <th>Terminal</th>\n",
       "      <th>Boarding Area</th>\n",
       "      <th>Passenger Count</th>\n",
       "      <th>years</th>\n",
       "    </tr>\n",
       "  </thead>\n",
       "  <tbody>\n",
       "    <tr>\n",
       "      <th>2064</th>\n",
       "      <td>200701</td>\n",
       "      <td>ATA Airlines</td>\n",
       "      <td>TZ</td>\n",
       "      <td>ATA Airlines</td>\n",
       "      <td>TZ</td>\n",
       "      <td>Domestic</td>\n",
       "      <td>US</td>\n",
       "      <td>Deplaned</td>\n",
       "      <td>Low Fare</td>\n",
       "      <td>International</td>\n",
       "      <td>A</td>\n",
       "      <td>48</td>\n",
       "      <td>2007</td>\n",
       "    </tr>\n",
       "    <tr>\n",
       "      <th>2065</th>\n",
       "      <td>200701</td>\n",
       "      <td>ATA Airlines</td>\n",
       "      <td>TZ</td>\n",
       "      <td>ATA Airlines</td>\n",
       "      <td>TZ</td>\n",
       "      <td>Domestic</td>\n",
       "      <td>US</td>\n",
       "      <td>Enplaned</td>\n",
       "      <td>Low Fare</td>\n",
       "      <td>International</td>\n",
       "      <td>A</td>\n",
       "      <td>48</td>\n",
       "      <td>2007</td>\n",
       "    </tr>\n",
       "    <tr>\n",
       "      <th>2066</th>\n",
       "      <td>200701</td>\n",
       "      <td>Air Canada</td>\n",
       "      <td>AC</td>\n",
       "      <td>Air Canada</td>\n",
       "      <td>AC</td>\n",
       "      <td>International</td>\n",
       "      <td>Canada</td>\n",
       "      <td>Deplaned</td>\n",
       "      <td>Other</td>\n",
       "      <td>Terminal 3</td>\n",
       "      <td>E</td>\n",
       "      <td>19541</td>\n",
       "      <td>2007</td>\n",
       "    </tr>\n",
       "    <tr>\n",
       "      <th>2067</th>\n",
       "      <td>200701</td>\n",
       "      <td>Air Canada</td>\n",
       "      <td>AC</td>\n",
       "      <td>Air Canada</td>\n",
       "      <td>AC</td>\n",
       "      <td>International</td>\n",
       "      <td>Canada</td>\n",
       "      <td>Enplaned</td>\n",
       "      <td>Other</td>\n",
       "      <td>Terminal 3</td>\n",
       "      <td>E</td>\n",
       "      <td>18824</td>\n",
       "      <td>2007</td>\n",
       "    </tr>\n",
       "    <tr>\n",
       "      <th>2068</th>\n",
       "      <td>200701</td>\n",
       "      <td>Air China</td>\n",
       "      <td>CA</td>\n",
       "      <td>Air China</td>\n",
       "      <td>CA</td>\n",
       "      <td>International</td>\n",
       "      <td>Asia</td>\n",
       "      <td>Deplaned</td>\n",
       "      <td>Other</td>\n",
       "      <td>International</td>\n",
       "      <td>G</td>\n",
       "      <td>4845</td>\n",
       "      <td>2007</td>\n",
       "    </tr>\n",
       "  </tbody>\n",
       "</table>\n",
       "</div>"
      ],
      "text/plain": [
       "      Activity Period Operating Airline Operating Airline IATA Code  \\\n",
       "2064           200701      ATA Airlines                          TZ   \n",
       "2065           200701      ATA Airlines                          TZ   \n",
       "2066           200701        Air Canada                          AC   \n",
       "2067           200701        Air Canada                          AC   \n",
       "2068           200701         Air China                          CA   \n",
       "\n",
       "     Published Airline Published Airline IATA Code    GEO Summary GEO Region  \\\n",
       "2064      ATA Airlines                          TZ       Domestic         US   \n",
       "2065      ATA Airlines                          TZ       Domestic         US   \n",
       "2066        Air Canada                          AC  International     Canada   \n",
       "2067        Air Canada                          AC  International     Canada   \n",
       "2068         Air China                          CA  International       Asia   \n",
       "\n",
       "     Activity Type Code Price Category Code       Terminal Boarding Area  \\\n",
       "2064           Deplaned            Low Fare  International             A   \n",
       "2065           Enplaned            Low Fare  International             A   \n",
       "2066           Deplaned               Other     Terminal 3             E   \n",
       "2067           Enplaned               Other     Terminal 3             E   \n",
       "2068           Deplaned               Other  International             G   \n",
       "\n",
       "      Passenger Count  years  \n",
       "2064               48   2007  \n",
       "2065               48   2007  \n",
       "2066            19541   2007  \n",
       "2067            18824   2007  \n",
       "2068             4845   2007  "
      ]
     },
     "execution_count": 74,
     "metadata": {},
     "output_type": "execute_result"
    }
   ],
   "source": [
    "# 1\n",
    "#let us create a column of years\n",
    "pax7_17['years']=pax7_17['Activity Period'].astype('str').str.slice(0,4)\n",
    "pax7_17['years']=pax7_17['years'].astype('int')\n",
    "pax7_17.head()"
   ]
  },
  {
   "cell_type": "code",
   "execution_count": 75,
   "metadata": {},
   "outputs": [
    {
     "data": {
      "image/png": "[encoded data removed]",
      "text/plain": [
       "<Figure size 1000x500 with 1 Axes>"
      ]
     },
     "metadata": {},
     "output_type": "display_data"
    }
   ],
   "source": [
    "pax7_17.groupby('years',as_index=False)['Passenger Count'].agg('sum').set_index('years').plot(kind='bar',figsize=(10,5))\n",
    "plt.title('Passengers per year')\n",
    "plt.ylabel('No. of passengers in x10^7')\n",
    "plt.xlabel('Years')\n",
    "plt.show()"
   ]
  },
  {
   "cell_type": "markdown",
   "metadata": {},
   "source": [
    "As it can be visualized from the graph that at 2007 the passenger count was around 35 million and it slowly increased as the decade proceeded and touched the 50 million mark in 2015 and is soon going to get to 60 million in either the end of 2018 or mid 2019.  "
   ]
  },
  {
   "cell_type": "code",
   "execution_count": 76,
   "metadata": {},
   "outputs": [
    {
     "name": "stderr",
     "output_type": "stream",
     "text": [
      "No artists with labels found to put in legend.  Note that artists whose label start with an underscore are ignored when legend() is called with no argument.\n"
     ]
    },
    {
     "data": {
      "image/png": "[encoded data removed]",
      "text/plain": [
       "<Figure size 1000x500 with 1 Axes>"
      ]
     },
     "metadata": {},
     "output_type": "display_data"
    }
   ],
   "source": [
    "# 2\n",
    "terminals=passengers.groupby('Terminal',as_index=False)['Passenger Count'].agg('sum').set_index('Terminal').sort_values('Passenger Count',ascending=False)\n",
    "terminals.plot(kind='pie',figsize=(10,5),autopct='%1.2f%%',subplots=True,labels=None,shadow=True)\n",
    "plt.title('Representing percentage of passengers handled by each terminal at SF')\n",
    "plt.ylabel('')\n",
    "plt.axis('equal')\n",
    "plt.legend(labels=terminals.index,loc='upper left')\n",
    "plt.show()"
   ]
  },
  {
   "cell_type": "markdown",
   "metadata": {},
   "source": [
    "Terminal3 handles almost 40% of the passengers at SF followed by the international terminal, which handles almost 27% of the passengers. The 'others' terminal has a very very low value and might posssibly be the General Aviation Terminal. We will later find out why Terminal3 has such a load.  "
   ]
  },
  {
   "cell_type": "code",
   "execution_count": 77,
   "metadata": {},
   "outputs": [],
   "source": [
    "# 3\n",
    "pax=pax7_17.groupby(['years','Activity Type Code'],as_index=False)['Passenger Count'].agg('sum').set_index('years')"
   ]
  },
  {
   "cell_type": "code",
   "execution_count": 78,
   "metadata": {},
   "outputs": [
    {
     "data": {
      "image/png": "[encoded data removed]",
      "text/plain": [
       "<Figure size 1000x1000 with 1 Axes>"
      ]
     },
     "metadata": {},
     "output_type": "display_data"
    }
   ],
   "source": [
    "deplaned=pax[pax['Activity Type Code']=='Deplaned']\n",
    "enplaned=pax[pax['Activity Type Code']=='Enplaned']\n",
    "thru=pax[pax['Activity Type Code']=='Thru / Transit']\n",
    "barwidth=0.35\n",
    "fig,ax=plt.subplots(figsize=(10,10))\n",
    "p1=plt.bar(deplaned.index,deplaned[\"Passenger Count\"],barwidth,label='Deplaned')\n",
    "p2=plt.bar(enplaned.index+barwidth,enplaned['Passenger Count'],barwidth,label=\"Enplaned\")\n",
    "p3=plt.bar(thru.index+(barwidth*2),thru['Passenger Count'],barwidth,label='Thru/Transit')\n",
    "plt.title('Comparison between passengers Deplaned, Enplaned and Thru at SF per year')\n",
    "plt.ylabel('No. of passengers')\n",
    "plt.xlabel('Years')\n",
    "plt.xticks(deplaned.index+barwidth,deplaned.index)\n",
    "plt.legend()\n",
    "plt.tight_layout()\n",
    "plt.show()"
   ]
  },
  {
   "cell_type": "markdown",
   "metadata": {},
   "source": [
    "Above graph shows that the number of passengers that deplane and enplane at SF are almost equal. Both of the numbers go on increasing as the years pass by. We see that the passengers that go through SF are almost equal to none. This is because of an intersting fact. In earlier days, as the engines of the airplanes were not so powerful, HUB System was used in Aviation. HUB System simply represents that if any plane has to go from an airport to another airport which are far away from each other, they had to give stops at imtermediate airports due to several reasons. That might be Refueling or other stuff like short maintenence. Now these intermediate airports were big airports like SF. So planes used to get a stop at SF and then continue with its journey, thereby increasing the number of Through passengers at SF. Now a days, HUB System is no longer used as the engines of the planes are pwerful enough to cover long distant flights in one leg. That's why the number of through passengers are continuously decreasing at SF. But you might question that if HUB System is no longer in use, why do passengers(even a small amount) go through SF? Imgaine an airport near to SF but does not have an infrastructure to handle international traffic. Any passenger, trying to reach an international destination has to make a transition through SF( as SF is the only international airport near the small one) to reach his/her destination.     "
   ]
  },
  {
   "cell_type": "code",
   "execution_count": 79,
   "metadata": {},
   "outputs": [
    {
     "data": {
      "text/html": [
       "<div>\n",
       "<style scoped>\n",
       "    .dataframe tbody tr th:only-of-type {\n",
       "        vertical-align: middle;\n",
       "    }\n",
       "\n",
       "    .dataframe tbody tr th {\n",
       "        vertical-align: top;\n",
       "    }\n",
       "\n",
       "    .dataframe thead th {\n",
       "        text-align: right;\n",
       "    }\n",
       "</style>\n",
       "<table border=\"1\" class=\"dataframe\">\n",
       "  <thead>\n",
       "    <tr style=\"text-align: right;\">\n",
       "      <th></th>\n",
       "      <th>Operating Airline</th>\n",
       "      <th>Passenger Count</th>\n",
       "    </tr>\n",
       "  </thead>\n",
       "  <tbody>\n",
       "    <tr>\n",
       "      <th>30</th>\n",
       "      <td>United Airlines</td>\n",
       "      <td>83749648</td>\n",
       "    </tr>\n",
       "    <tr>\n",
       "      <th>31</th>\n",
       "      <td>United Airlines - Pre 07/01/2013</td>\n",
       "      <td>64752856</td>\n",
       "    </tr>\n",
       "    <tr>\n",
       "      <th>4</th>\n",
       "      <td>American Airlines</td>\n",
       "      <td>36720763</td>\n",
       "    </tr>\n",
       "    <tr>\n",
       "      <th>23</th>\n",
       "      <td>SkyWest Airlines</td>\n",
       "      <td>36035376</td>\n",
       "    </tr>\n",
       "    <tr>\n",
       "      <th>32</th>\n",
       "      <td>Virgin America</td>\n",
       "      <td>35271113</td>\n",
       "    </tr>\n",
       "    <tr>\n",
       "      <th>24</th>\n",
       "      <td>Southwest Airlines</td>\n",
       "      <td>31559719</td>\n",
       "    </tr>\n",
       "  </tbody>\n",
       "</table>\n",
       "</div>"
      ],
      "text/plain": [
       "                   Operating Airline  Passenger Count\n",
       "30                   United Airlines         83749648\n",
       "31  United Airlines - Pre 07/01/2013         64752856\n",
       "4                  American Airlines         36720763\n",
       "23                  SkyWest Airlines         36035376\n",
       "32                    Virgin America         35271113\n",
       "24                Southwest Airlines         31559719"
      ]
     },
     "execution_count": 79,
     "metadata": {},
     "output_type": "execute_result"
    }
   ],
   "source": [
    "# 4\n",
    "#First let us find the airline at SF which rules the domestic passenger service\n",
    "pax7_17[pax7_17['GEO Summary']=='Domestic'].groupby('Operating Airline',as_index=False)['Passenger Count'].agg('sum').sort_values('Passenger Count',ascending=False).head(6)"
   ]
  },
  {
   "cell_type": "markdown",
   "metadata": {},
   "source": [
    "It was seen from the other data that Skywest performed most landings at SF but from this data we get that United Airlines(combined) carries maximum number of passengers. This might be because of the bigger airplanes preffered by United which can carry more passengers than Skywest Airlines. But here, American Airlines has occupied the 2nd(virtually) position. The combined score of both the united airlines is way higher than that of other airlines."
   ]
  },
  {
   "cell_type": "code",
   "execution_count": 80,
   "metadata": {},
   "outputs": [
    {
     "data": {
      "image/png": "[encoded data removed]",
      "text/plain": [
       "<Figure size 1000x1000 with 1 Axes>"
      ]
     },
     "metadata": {},
     "output_type": "display_data"
    }
   ],
   "source": [
    "# Passenger distribution of American airlines\n",
    "domestic=pax7_17[pax7_17['GEO Summary']=='Domestic']\n",
    "american=domestic[(domestic['Operating Airline']=='American Airlines')]\n",
    "american.groupby(['Operating Airline','years'],as_index=False)['Passenger Count'].agg('sum').set_index('years').plot(figsize=(10,10))\n",
    "plt.title('Passenger Distribution of American Airlines')\n",
    "plt.ylabel('No. of passengers')\n",
    "plt.xlabel('Years')\n",
    "plt.show()"
   ]
  },
  {
   "cell_type": "markdown",
   "metadata": {},
   "source": [
    "It can be visualized from the graph that the business of American Airlines was falling like anything and became least in 2014. Now, it is very interesting to see that the passenger count of American Airlines touched the 4400000 mark from less than 3000000 in a couple of years. It would be really interesting to know what American Airlines did to have such a sudden increase in its business."
   ]
  },
  {
   "cell_type": "code",
   "execution_count": 81,
   "metadata": {},
   "outputs": [
    {
     "data": {
      "text/html": [
       "<div>\n",
       "<style scoped>\n",
       "    .dataframe tbody tr th:only-of-type {\n",
       "        vertical-align: middle;\n",
       "    }\n",
       "\n",
       "    .dataframe tbody tr th {\n",
       "        vertical-align: top;\n",
       "    }\n",
       "\n",
       "    .dataframe thead th {\n",
       "        text-align: right;\n",
       "    }\n",
       "</style>\n",
       "<table border=\"1\" class=\"dataframe\">\n",
       "  <thead>\n",
       "    <tr style=\"text-align: right;\">\n",
       "      <th></th>\n",
       "      <th>GEO Region</th>\n",
       "      <th>Passenger Count</th>\n",
       "    </tr>\n",
       "  </thead>\n",
       "  <tbody>\n",
       "    <tr>\n",
       "      <th>0</th>\n",
       "      <td>Asia</td>\n",
       "      <td>47062442</td>\n",
       "    </tr>\n",
       "    <tr>\n",
       "      <th>4</th>\n",
       "      <td>Europe</td>\n",
       "      <td>29783590</td>\n",
       "    </tr>\n",
       "    <tr>\n",
       "      <th>2</th>\n",
       "      <td>Canada</td>\n",
       "      <td>15017168</td>\n",
       "    </tr>\n",
       "    <tr>\n",
       "      <th>5</th>\n",
       "      <td>Mexico</td>\n",
       "      <td>9297433</td>\n",
       "    </tr>\n",
       "    <tr>\n",
       "      <th>1</th>\n",
       "      <td>Australia / Oceania</td>\n",
       "      <td>5216849</td>\n",
       "    </tr>\n",
       "  </tbody>\n",
       "</table>\n",
       "</div>"
      ],
      "text/plain": [
       "            GEO Region  Passenger Count\n",
       "0                 Asia         47062442\n",
       "4               Europe         29783590\n",
       "2               Canada         15017168\n",
       "5               Mexico          9297433\n",
       "1  Australia / Oceania          5216849"
      ]
     },
     "execution_count": 81,
     "metadata": {},
     "output_type": "execute_result"
    }
   ],
   "source": [
    "# 5\n",
    "#First lets get the top international destination\n",
    "pax7_17[pax7_17['GEO Summary']=='International'].groupby('GEO Region',as_index=False)['Passenger Count'].agg('sum').sort_values('Passenger Count',ascending=False).head()"
   ]
  },
  {
   "cell_type": "markdown",
   "metadata": {},
   "source": [
    "Asia is the international GEO Region where people travel most from SF"
   ]
  },
  {
   "cell_type": "code",
   "execution_count": 82,
   "metadata": {},
   "outputs": [
    {
     "data": {
      "text/html": [
       "<div>\n",
       "<style scoped>\n",
       "    .dataframe tbody tr th:only-of-type {\n",
       "        vertical-align: middle;\n",
       "    }\n",
       "\n",
       "    .dataframe tbody tr th {\n",
       "        vertical-align: top;\n",
       "    }\n",
       "\n",
       "    .dataframe thead th {\n",
       "        text-align: right;\n",
       "    }\n",
       "</style>\n",
       "<table border=\"1\" class=\"dataframe\">\n",
       "  <thead>\n",
       "    <tr style=\"text-align: right;\">\n",
       "      <th></th>\n",
       "      <th>Operating Airline</th>\n",
       "      <th>Passenger Count</th>\n",
       "    </tr>\n",
       "  </thead>\n",
       "  <tbody>\n",
       "    <tr>\n",
       "      <th>18</th>\n",
       "      <td>United Airlines - Pre 07/01/2013</td>\n",
       "      <td>10307100</td>\n",
       "    </tr>\n",
       "    <tr>\n",
       "      <th>17</th>\n",
       "      <td>United Airlines</td>\n",
       "      <td>7823360</td>\n",
       "    </tr>\n",
       "    <tr>\n",
       "      <th>4</th>\n",
       "      <td>Cathay Pacific</td>\n",
       "      <td>4904493</td>\n",
       "    </tr>\n",
       "    <tr>\n",
       "      <th>15</th>\n",
       "      <td>Singapore Airlines</td>\n",
       "      <td>3779724</td>\n",
       "    </tr>\n",
       "    <tr>\n",
       "      <th>9</th>\n",
       "      <td>EVA Airways</td>\n",
       "      <td>3682442</td>\n",
       "    </tr>\n",
       "    <tr>\n",
       "      <th>14</th>\n",
       "      <td>Philippine Airlines</td>\n",
       "      <td>2747803</td>\n",
       "    </tr>\n",
       "    <tr>\n",
       "      <th>5</th>\n",
       "      <td>China Airlines</td>\n",
       "      <td>2590543</td>\n",
       "    </tr>\n",
       "  </tbody>\n",
       "</table>\n",
       "</div>"
      ],
      "text/plain": [
       "                   Operating Airline  Passenger Count\n",
       "18  United Airlines - Pre 07/01/2013         10307100\n",
       "17                   United Airlines          7823360\n",
       "4                     Cathay Pacific          4904493\n",
       "15                Singapore Airlines          3779724\n",
       "9                        EVA Airways          3682442\n",
       "14               Philippine Airlines          2747803\n",
       "5                     China Airlines          2590543"
      ]
     },
     "execution_count": 82,
     "metadata": {},
     "output_type": "execute_result"
    }
   ],
   "source": [
    "#Lets find the top 5 airlines which carry maximum passengers to Asia.\n",
    "pax7_17[pax7_17['GEO Region']=='Asia'].groupby('Operating Airline',as_index=False)['Passenger Count'].agg('sum').sort_values('Passenger Count',ascending=False).head(7)"
   ]
  },
  {
   "cell_type": "code",
   "execution_count": 83,
   "metadata": {},
   "outputs": [],
   "source": [
    "#Since United Airlines has a very peculiar distribution and its count is so much that we cannot overlook it, we will try to rename all United Airlines Pre 7/1/13 to United Airlines\n",
    "pax7_17['Operating Airline'].replace('United Airlines - Pre 07/01/2013','United Airlines',inplace=True)"
   ]
  },
  {
   "cell_type": "code",
   "execution_count": 84,
   "metadata": {},
   "outputs": [
    {
     "data": {
      "text/plain": [
       "17        United Airlines\n",
       "4          Cathay Pacific\n",
       "15     Singapore Airlines\n",
       "9             EVA Airways\n",
       "14    Philippine Airlines\n",
       "Name: Operating Airline, dtype: object"
      ]
     },
     "execution_count": 84,
     "metadata": {},
     "output_type": "execute_result"
    }
   ],
   "source": [
    "pax7_17[pax7_17['GEO Region']=='Asia'].groupby('Operating Airline',as_index=False)['Passenger Count'].agg('sum').sort_values('Passenger Count',ascending=False).head()['Operating Airline']"
   ]
  },
  {
   "cell_type": "markdown",
   "metadata": {},
   "source": [
    "Therefore we have all the united airlines entry with one name"
   ]
  },
  {
   "cell_type": "code",
   "execution_count": 85,
   "metadata": {},
   "outputs": [],
   "source": [
    "# now lets find the passenger distribution of these airlines to Asia\n",
    "international=pax7_17[((pax7_17['Operating Airline']=='United Airlines')|(pax7_17['Operating Airline']=='Cathay Pacific')|(pax7_17['Operating Airline']=='Singapore Airlines')|(pax7_17['Operating Airline']=='EVA Airways')|(pax7_17['Operating Airline']=='Philippine Airlines'))&(pax7_17['GEO Region']=='Asia')]"
   ]
  },
  {
   "cell_type": "code",
   "execution_count": 86,
   "metadata": {},
   "outputs": [],
   "source": [
    "pivot=international.groupby(['Operating Airline','years'],as_index=False)['Passenger Count'].agg('sum').set_index('years').pivot_table(index='Operating Airline',columns='years',values='Passenger Count')"
   ]
  },
  {
   "cell_type": "code",
   "execution_count": 87,
   "metadata": {},
   "outputs": [
    {
     "data": {
      "image/png": "[encoded data removed]",
      "text/plain": [
       "<Figure size 640x480 with 2 Axes>"
      ]
     },
     "metadata": {},
     "output_type": "display_data"
    }
   ],
   "source": [
    "sns.heatmap(pivot)\n",
    "plt.title('Heatmap of each airline vs passengers')\n",
    "plt.show()"
   ]
  },
  {
   "cell_type": "markdown",
   "metadata": {},
   "source": [
    "As seen from earlier that United Airlines rule in Domestic part. Now it can be seen that United Airlines also rules the international market from SF. \n",
    "1.We can see that United suffered some downfall in its passenger count in 2009 and 2013 but soon regained its position in the years following that.\n",
    "2.Cathay Pacific has maintained its consistency in its business throughout the decade, but is facing some downfall now.\n",
    "3.EVA Airways is rising in the 2nd half of the decade.\n",
    "4.Phillipine Airlines has not done much business throughout the decade.\n",
    "5.Singapore Airlines is also struggling to stay in the competition but has suffered a little bit downfall in the passenger count at the end of the decade. "
   ]
  },
  {
   "cell_type": "markdown",
   "metadata": {},
   "source": [
    "# Conclusion"
   ]
  },
  {
   "cell_type": "markdown",
   "metadata": {},
   "source": [
    "From the analysis of both of the datasets we get that Virgin America is the airline which has the highest average landing weight in the decade 2007-2017, United Airlines is the airline which has most number of landings at SF, Landing trend of Top 5 Domestic Airlines at SF, Federal Express is the top freighter airline followed by ABX Air and so on, Federal Express prefers Airbus and McDonnell Douglas while Korean Airlines and Nippon Cargo Airlines believe in Boeing, Boeing is the company which manufactures aircrafts which carries more weight than other companies' aircrafts, Boeing 747 400F can carry a weight way greater than any other airplane,  the passenger count at SF each year, SF's Terminal3 handles most of the traffic, the decrease in the number of through passengers at SF due to the less usage of HUB System in aviation, passenger distribution of American Airlines and the passenger distribution of the top 5 international airlines operating at SF to Asia. United Airlines rule over the domestic and international market in carrying passengers at SF."
   ]
  },
  {
   "cell_type": "markdown",
   "metadata": {},
   "source": [
    "# Thank you for having a look at this project"
   ]
  }
 ],
 "metadata": {
  "kernelspec": {
   "display_name": "Python 3",
   "language": "python",
   "name": "python3"
  },
  "language_info": {
   "codemirror_mode": {
    "name": "ipython",
    "version": 3
   },
   "file_extension": ".py",
   "mimetype": "text/x-python",
   "name": "python",
   "nbconvert_exporter": "python",
   "pygments_lexer": "ipython3",
   "version": "3.11.4"
  }
 },
 "nbformat": 4,
 "nbformat_minor": 2
}
